{
 "cells": [
  {
   "cell_type": "markdown",
   "metadata": {},
   "source": [
    "# Before we start, You need to downlaod a driver \n",
    "***\n",
    "### In order to use selenium you need to download a webdriver. \n",
    "* A webdriver is a browser that you can control with your code, clicking puttons, scrolling through webpages, and collecting information right from the website. \n",
    "* Allows for another from of webscraping for websites that use dynanic content using javascrict (i.e. hidden data, popups, ect.) \n",
    "***\n",
    "Use Chrome, it works better with selenium. You will need to check what version of chrome you have downloaded. \n",
    "1. Go to chrome settings ![Go to settings](three_dots.jpg)\n",
    "2. Go to About Chrome ![About Chrome](About_Chrome.jpg)\n",
    "3. Find your Verison ![Version](Version_Number.jpg)\n",
    "4. Open  [Webdriver chrome downloads](https://chromedriver.chromium.org/downloads) and click the link that corisponds to your chrome version ![Links](Dirvers.jpg)\n",
    "5. Choose your device type: Either mac or Windows ![Type](Verisons.jpg)\n",
    "\n",
    "Follow the download insutions\n",
    "***\n",
    "### For this code, you will need to change the driver path if it is differnt than the path listed below\n",
    "\"C:\\Slenium Drivers\\chromedriver.exe\"\n",
    "\n",
    "* This will save a headache later on "
   ]
  },
  {
   "cell_type": "code",
   "execution_count": 116,
   "metadata": {},
   "outputs": [],
   "source": [
    "from pathlib import Path, PureWindowsPath # For windows only \n",
    "import os \n",
    "\n",
    "import time\n",
    "from time import sleep\n",
    "import selenium #Need this step \n",
    "from selenium import webdriver #Need this step \n",
    "\n",
    "from selenium.webdriver.common.by import By #Allows for selenium to click things \n",
    "from selenium.webdriver.chrome.service import Service #https://stackoverflow.com/questions/64717302/deprecationwarning-executable-path-has-been-deprecated-selenium-python\n",
    "from selenium.webdriver.support import expected_conditions as EC #Allows for more complex code \n",
    "from selenium.webdriver.chrome.options import Options #Allows you to change aspects of the browser\n",
    "chrome_options = Options() "
   ]
  },
  {
   "cell_type": "markdown",
   "metadata": {},
   "source": [
    "# What is Selenium?\n",
    "#### It is a tool that enables coders to automate web browsers. \n",
    "* Not origally made for webscraping, slenium was used gto test websites. \n",
    "* It is useful for webscraping becasue you can intract with websites dirctly and gain acess to data that would have been perviously hidden. \n",
    "***\n",
    "Finding Locators is the first task for selenium webscraping\n",
    "#### Think of selenium as the treasure map, locators are the stars, the webdriver is the boat, and you are the captain. \n",
    "***\n",
    "Further reading links:\n",
    "* [Anout Webdrivers](https://www.selenium.dev/documentation/webdriver/getting_started/)\n",
    "* [What are CSS selectors](https://www.w3schools.com/cssref/css_selectors.php \n",
    ")\n",
    "* [CSS Selctor and XPATH tools](https://chrome.google.com/webstore/detail/selectorgadget/mhjhnkcfbdhnjickkkdbjoemdmbfginb?hl=en)\n",
    "* [Sleenium Documentation](https://selenium-python.readthedocs.io/)\n",
    "***\n",
    "# 1. Getting data from a webpage  "
   ]
  },
  {
   "cell_type": "code",
   "execution_count": 126,
   "metadata": {
    "scrolled": true
   },
   "outputs": [
    {
     "name": "stdout",
     "output_type": "stream",
     "text": [
      "['Bon Appétit']\n"
     ]
    }
   ],
   "source": [
    "driver_path = Service(r\"C:\\Slenium Drivers\\chromedriver.exe\")\n",
    "chrome_options.add_argument(\"--window-size=1900,1000\") #pick a size and stick with it, it can change how code intreacts with the website.\n",
    "driver = webdriver.Chrome(service = driver_path, options = chrome_options)\n",
    "#__________________________________________________________________________________________________#\n",
    "youtube_url = \"https://www.youtube.com/@bonappetit/featured\"\n",
    "driver.get(youtube_url)\n",
    "\n",
    "yt_title = []\n",
    "title = driver.find_element(By.XPATH, './/*[@id=\"text-container\"]').text #XPATH Version \n",
    "#title = driver.find_element(By.CSS_SELECTOR, '#text').text #This is the CSS Selector Verison\n",
    "\n",
    "yt_title.append(title)\n",
    "print(yt_title)\n",
    "#driver.quit()"
   ]
  },
  {
   "cell_type": "code",
   "execution_count": 59,
   "metadata": {},
   "outputs": [],
   "source": [
    "driver.quit()"
   ]
  },
  {
   "cell_type": "markdown",
   "metadata": {},
   "source": [
    "# 2. Adding multiple urls that you want to pull info from"
   ]
  },
  {
   "cell_type": "code",
   "execution_count": 56,
   "metadata": {},
   "outputs": [
    {
     "name": "stdout",
     "output_type": "stream",
     "text": [
      "['Bon Appétit', 'Architectural Digest', 'SmarterEveryDay']\n"
     ]
    }
   ],
   "source": [
    "driver_path = Service(r\"C:\\Slenium Drivers\\chromedriver.exe\")\n",
    "chrome_options.add_argument(\"--window-size=1900,1000\")\n",
    "driver = webdriver.Chrome(service = driver_path, options = chrome_options)\n",
    "#__________________________________________________________________________________________________#\n",
    "youtube_urls = [\"https://www.youtube.com/@bonappetit/featured\", 'https://www.youtube.com/user/ArchitecturalDigest', 'https://www.youtube.com/user/destinws2']\n",
    "\n",
    "counter = 0\n",
    "yt_title = []\n",
    "\n",
    "for u in youtube_urls: \n",
    "    driver.get(youtube_urls[0+counter])\n",
    "    driver.implicitly_wait(7)\n",
    "    title = driver.find_element(By.XPATH, './/*[@id=\"text-container\"]').text\n",
    "    counter += 1\n",
    "    yt_title.append(title)\n",
    "    \n",
    "print(yt_title)"
   ]
  },
  {
   "cell_type": "code",
   "execution_count": 57,
   "metadata": {},
   "outputs": [],
   "source": [
    "driver.quit()"
   ]
  },
  {
   "cell_type": "markdown",
   "metadata": {},
   "source": [
    "# 3.Interacting with the website through buttons "
   ]
  },
  {
   "cell_type": "code",
   "execution_count": 129,
   "metadata": {},
   "outputs": [
    {
     "name": "stdout",
     "output_type": "stream",
     "text": [
      "non_text version:  <selenium.webdriver.remote.webelement.WebElement (session=\"505e663bfc3fb8f988f0ea2315a27a22\", element=\"298de89c-f56f-4a03-9893-aad25ede9f07\")>\n",
      "Text version:  1,718,056,356 views\n"
     ]
    }
   ],
   "source": [
    "driver_path = Service(r\"C:\\Slenium Drivers\\chromedriver.exe\")\n",
    "chrome_options.add_argument(\"--window-size=1900,1000\")\n",
    "driver = webdriver.Chrome(service = driver_path, options = chrome_options)\n",
    "#____________________________________________________________________________________________________#\n",
    "youtube_url = \"https://www.youtube.com/@bonappetit/featured\"\n",
    "driver.get(youtube_url)\n",
    "\n",
    "driver.implicitly_wait(7)\n",
    "driver.find_element(By.XPATH, './/div[normalize-space(.)=\"About\"]/ancestor::tp-yt-paper-tab[@class=\"style-scope ytd-c4-tabbed-header-renderer\"]').click()\n",
    "tot_views = driver.find_element(By.XPATH,'//*[@id=\"right-column\"]/yt-formatted-string[3]')\n",
    "\n",
    "print(\"non_text version: \", tot_views)\n",
    "print(\"Text version: \", tot_views.text)"
   ]
  },
  {
   "cell_type": "code",
   "execution_count": 127,
   "metadata": {},
   "outputs": [],
   "source": [
    "driver.quit()"
   ]
  },
  {
   "cell_type": "markdown",
   "metadata": {},
   "source": [
    "# 4. Scrolling through a website "
   ]
  },
  {
   "cell_type": "code",
   "execution_count": 122,
   "metadata": {},
   "outputs": [],
   "source": [
    "driver_path = Service(r\"C:\\Slenium Drivers\\chromedriver.exe\")\n",
    "chrome_options.add_argument(\"--window-size=1900,1000\")\n",
    "driver = webdriver.Chrome(service = driver_path, options = chrome_options)\n",
    "#____________________________________________________________________________________________________#\n",
    "youtube_url = \"https://www.youtube.com/@bonappetit/featured\"\n",
    "driver.get(youtube_url)\n",
    "\n",
    "driver.implicitly_wait(20)\n",
    "\n",
    "driver.execute_script(\"window.scrollBy(0, 1000)\")"
   ]
  },
  {
   "cell_type": "code",
   "execution_count": 121,
   "metadata": {},
   "outputs": [],
   "source": [
    "driver.quit()"
   ]
  },
  {
   "cell_type": "markdown",
   "metadata": {},
   "source": [
    "# 5. Closing a pop up window "
   ]
  },
  {
   "cell_type": "code",
   "execution_count": 118,
   "metadata": {},
   "outputs": [
    {
     "name": "stdout",
     "output_type": "stream",
     "text": [
      "Pop_up Occured\n"
     ]
    }
   ],
   "source": [
    "driver_path = Service(r\"C:\\Slenium Drivers\\chromedriver.exe\")\n",
    "chrome_options.add_argument(\"--window-size=1900,1000\")\n",
    "driver = webdriver.Chrome(service = driver_path, options = chrome_options)\n",
    "#____________________________________________________________________________________________________#\n",
    "twitter_url = \"https://twitter.com/search?q=%22Glory%20to%20Ukraine%22&src=trend_click&vertical=trends\"\n",
    "driver.get(twitter_url)\n",
    "\n",
    "driver.implicitly_wait(20)\n",
    "\n",
    "if EC.presence_of_element_located(driver.find_element(By.XPATH, './/*[@id=\"layers\"]/div[2]/div/div/div/div/div/div[2]/div[2]/div/div[2]/div/div[2]/div[1]/div[1]/span')):\n",
    "    print(\"Pop_up Occured\")\n",
    "    time.sleep(2) \n",
    "    driver.find_element(By.XPATH, './/*[@id=\"layers\"]/div[2]/div/div/div/div/div/div[2]/div[2]/div/div[1]/div/div/div/div[1]/div').click()\n",
    "else: \n",
    "    print(\"No pop_up\")"
   ]
  },
  {
   "cell_type": "code",
   "execution_count": 141,
   "metadata": {},
   "outputs": [],
   "source": [
    "driver.quit()\n"
   ]
  },
  {
   "cell_type": "markdown",
   "metadata": {},
   "source": [
    "# Getting URL's from a webpage "
   ]
  },
  {
   "cell_type": "code",
   "execution_count": 161,
   "metadata": {},
   "outputs": [
    {
     "name": "stdout",
     "output_type": "stream",
     "text": [
      "['https://www.youtube.com/watch?v=O82BSEwUJok', 'https://www.youtube.com/watch?v=Zmr4VyFmYng', 'https://www.youtube.com/watch?v=Br6zFjFINqQ', 'https://www.youtube.com/watch?v=0PKgLKOhH10', 'https://www.youtube.com/watch?v=4SaeNBo1uuE', 'https://www.youtube.com/watch?v=gGsy9bqpbaU', 'https://www.youtube.com/watch?v=An4Nu3cydOg', 'https://www.youtube.com/watch?v=ml_KwtaTC-A', 'https://www.youtube.com/watch?v=j5pcpuTWP6U', 'https://www.youtube.com/watch?v=LgVVFa3zFqw', 'https://www.youtube.com/watch?v=Wpcvwsiyh2Y', 'https://www.youtube.com/watch?v=OGpMnx_PFLk', 'https://www.youtube.com/watch?v=yN7txp7DqSU', 'https://www.youtube.com/watch?v=9MeXHNBBTpo', 'https://www.youtube.com/watch?v=hGJWUg4wx78', 'https://www.youtube.com/watch?v=1spBBO543xg', 'https://www.youtube.com/watch?v=3WQqxyOvjxE', 'https://www.youtube.com/watch?v=_96sBTSpgdM', 'https://www.youtube.com/watch?v=dpSkVa9kE20', 'https://www.youtube.com/watch?v=e5muEaKa8Ps', 'https://www.youtube.com/watch?v=KMd4Ft4lnP4', 'https://www.youtube.com/watch?v=5OOysoA71yU', 'https://www.youtube.com/watch?v=PMFooEhH1jE', 'https://www.youtube.com/watch?v=0rFt4G8hcHw', 'https://www.youtube.com/watch?v=h9GCK1XMEY0', 'https://www.youtube.com/watch?v=fFtqOSfkKH8', 'https://www.youtube.com/watch?v=Q2-UqR-cqnU', 'https://www.youtube.com/watch?v=BHT_ZOnXCBQ', None]\n"
     ]
    }
   ],
   "source": [
    "driver_path = Service(r\"C:\\Slenium Drivers\\chromedriver.exe\")\n",
    "chrome_options.add_argument(\"--window-size=1900,1000\")\n",
    "driver = webdriver.Chrome(service = driver_path, options = chrome_options)\n",
    "#____________________________________________________________________________________________________#\n",
    "yt_url = \"https://www.youtube.com/@bonappetit/videos\"\n",
    "driver.get(yt_url)\n",
    "\n",
    "driver.implicitly_wait(20)\n",
    "\n",
    "vids_urls = []\n",
    "video_urls = driver.find_elements(By.XPATH, './/*[@id=\"video-title-link\"]')\n",
    "\n",
    "for url in video_urls:\n",
    "    href = url.get_attribute('href')\n",
    "    vids_urls.append(href)\n",
    "\n",
    "print(vids_urls)"
   ]
  },
  {
   "cell_type": "code",
   "execution_count": 159,
   "metadata": {},
   "outputs": [],
   "source": [
    "driver.quit()"
   ]
  },
  {
   "cell_type": "markdown",
   "metadata": {},
   "source": [
    "# When building a websracper, these tools can help your code adapt to a website and the data you need to gather. \n",
    "\n",
    "### Lets do a more complicated example: First lets talk it out \n",
    "***\n",
    "I want to gather data from one youtube channel, here are some ideas of what I can gather \n",
    "1. The channel name \n",
    "2. The number of subs\n",
    "3. About tab: Date joined\n",
    "4. home page video click\n",
    "5. Video views"
   ]
  },
  {
   "cell_type": "code",
   "execution_count": 207,
   "metadata": {},
   "outputs": [
    {
     "name": "stdout",
     "output_type": "stream",
     "text": [
      "The Channel Name is:  Bon Appétit\n",
      "The Channel has 6.23M subscribers number\n",
      "This channel is loacted in the  United States\n",
      "The home video has  54,983 views\n",
      "4 days ago views\n"
     ]
    }
   ],
   "source": [
    "driver_path = Service(r\"C:\\Slenium Drivers\\chromedriver.exe\")\n",
    "chrome_options.add_argument(\"--window-size=1900,1000\") #pick a size and stick with it, it can change how code intreacts with the website.\n",
    "driver = webdriver.Chrome(service = driver_path, options = chrome_options)\n",
    "#__________________________________________________________________________________________________#\n",
    "youtube_url = \"https://www.youtube.com/@bonappetit/featured\"\n",
    "driver.get(youtube_url)\n",
    "\n",
    "driver.implicitly_wait(20)\n",
    "title = driver.find_element(By.XPATH, './/*[@id=\"text-container\"]').text #XPATH Version \n",
    "subs = driver.find_element(By.XPATH, './/*[@id=\"subscriber-count\"]').text\n",
    "# for sub in subs: #getting the subscriber count\n",
    "#     channel_subs = driver.find_element(By.XPATH, './/*[@id=\"subscriber-count\"]').text\n",
    "\n",
    "print('The Channel Name is: ', title)\n",
    "print('The Channel has', channel_subs, 'number')\n",
    "#URL of video \n",
    "\n",
    "driver.find_element(By.XPATH, './/div[normalize-space(.)=\"About\"]/ancestor::tp-yt-paper-tab[@class=\"style-scope ytd-c4-tabbed-header-renderer\"]').click()\n",
    "\n",
    "driver.implicitly_wait(20)\n",
    "location = driver.find_element(By.XPATH, './/*[@id=\"details-container\"]/table/tbody/tr[2]/td[2]/yt-formatted-string').text\n",
    "print('This channel is loacted in the ', location)\n",
    "\n",
    "driver.find_element(By.XPATH, './/div[normalize-space(.)=\"Home\"]/ancestor::tp-yt-paper-tab[@class=\"style-scope ytd-c4-tabbed-header-renderer\"]').click()\n",
    "driver.implicitly_wait(20)\n",
    "vid_views = driver.find_element(By.XPATH, './/*[contains(concat( \" \", @class, \" \" ), concat( \" \", \"ytd-video-meta-block\", \" \" ))]')\n",
    "\n",
    "print(\"The hoem video's data: \", vid_views.text)"
   ]
  },
  {
   "cell_type": "code",
   "execution_count": 204,
   "metadata": {},
   "outputs": [],
   "source": [
    "driver.quit()    "
   ]
  },
  {
   "cell_type": "markdown",
   "metadata": {},
   "source": [
    "# Your turn\n",
    "#### Find a youtube channel and use two of the examples above to gather 2 diffrent types of data \n",
    "* Do not use the same youtube channels I did or use the same combined example above, Get creative! "
   ]
  },
  {
   "cell_type": "code",
   "execution_count": null,
   "metadata": {},
   "outputs": [],
   "source": []
  }
 ],
 "metadata": {
  "kernelspec": {
   "display_name": "Python 3",
   "language": "python",
   "name": "python3"
  },
  "language_info": {
   "codemirror_mode": {
    "name": "ipython",
    "version": 3
   },
   "file_extension": ".py",
   "mimetype": "text/x-python",
   "name": "python",
   "nbconvert_exporter": "python",
   "pygments_lexer": "ipython3",
   "version": "3.8.5"
  }
 },
 "nbformat": 4,
 "nbformat_minor": 5
}
