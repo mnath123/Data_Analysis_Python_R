{
 "cells": [
  {
   "cell_type": "markdown",
   "id": "26d3235d",
   "metadata": {},
   "source": [
    "# Before we start, You need to downlaod a driver \n",
    "***\n",
    "### In order to use selenium you need to download a webdriver. \n",
    "* A webdriver is a browser that you can control with your code, clicking puttons, scrolling through webpages, and collecting information right from the website. \n",
    "* Allows for another from of webscraping for websites that use dynanic content using javascrict (i.e. hidden data, popups, ect.) \n",
    "***\n",
    "Use Chrome, it works better with selenium. You will need to check what version of chrome you have downloaded. \n",
    "1. Go to chrome settings ![Go to settings](three_dots.jpg)\n",
    "2. Go to About Chrome ![About Chrome](About_Chrome.jpg)\n",
    "3. Find your Verison ![Version](Version_Number.jpg)\n",
    "4. Open  [Webdriver chrome downloads](https://chromedriver.chromium.org/downloads) and click the link that corisponds to your chrome version ![Links](Dirvers.jpg)\n",
    "5. Choose your device type: Either mac or Windows ![Type](Verisons.jpg)\n",
    "\n",
    "Follow the download insutions\n",
    "***\n",
    "### For this code, you will need to change the driver path if it is differnt than the path listed below\n",
    "\"C:\\Slenium Drivers\\chromedriver.exe\"\n",
    "\n",
    "* This will save a headache later on "
   ]
  },
  {
   "cell_type": "markdown",
   "id": "68e01a48",
   "metadata": {},
   "source": [
    "C:\\Users\\moumi\\OneDrive\\Desktop.exe"
   ]
  },
  {
   "cell_type": "code",
   "execution_count": 2,
   "id": "21ef3caa",
   "metadata": {},
   "outputs": [],
   "source": [
    "from pathlib import Path, PureWindowsPath # For windows only \n",
    "import os \n",
    "\n",
    "import time\n",
    "from time import sleep\n",
    "import selenium #Need this step \n",
    "from selenium import webdriver #Need this step \n",
    "\n",
    "from selenium.webdriver.common.by import By #Allows for selenium to click things \n",
    "from selenium.webdriver.chrome.service import Service #https://stackoverflow.com/questions/64717302/deprecationwarning-executable-path-has-been-deprecated-selenium-python\n",
    "from selenium.webdriver.support import expected_conditions as EC #Allows for more complex code \n",
    "from selenium.webdriver.chrome.options import Options #Allows you to change aspects of the browser\n",
    "chrome_options = Options() "
   ]
  },
  {
   "cell_type": "markdown",
   "id": "787cb727",
   "metadata": {},
   "source": [
    "# What is Selenium?\n",
    "#### It is a tool that enables coders to automate web browsers. \n",
    "* Not origally made for webscraping, slenium was used gto test websites. \n",
    "* It is useful for webscraping becasue you can intract with websites dirctly and gain acess to data that would have been perviously hidden. \n",
    "***\n",
    "Finding Locators is the first task for selenium webscraping\n",
    "#### Think of selenium as the treasure map, locators are the stars, the webdriver is the boat, and you are the captain. \n",
    "***\n",
    "Further reading links:\n",
    "* [Anout Webdrivers](https://www.selenium.dev/documentation/webdriver/getting_started/)\n",
    "* [What are CSS selectors](https://www.w3schools.com/cssref/css_selectors.php \n",
    ")\n",
    "* [CSS Selctor and XPATH tools](https://chrome.google.com/webstore/detail/selectorgadget/mhjhnkcfbdhnjickkkdbjoemdmbfginb?hl=en)\n",
    "* [Sleenium Documentation](https://selenium-python.readthedocs.io/)\n",
    "***\n",
    "# 1. Getting data from a webpage  "
   ]
  },
  {
   "cell_type": "code",
   "execution_count": 4,
   "id": "3c183255",
   "metadata": {
    "scrolled": true
   },
   "outputs": [
    {
     "name": "stdout",
     "output_type": "stream",
     "text": [
      "['Bon Appétit']\n"
     ]
    }
   ],
   "source": [
    "driver_path = Service(r\"C:\\Users\\moumi\\OneDrive\\Desktop.exe\")\n",
    "chrome_options.add_argument(\"--window-size=1900,1000\") #pick a size and stick with it, it can change how code intreacts with the website.\n",
    "driver = webdriver.Chrome(service = driver_path, options = chrome_options)\n",
    "#__________________________________________________________________________________________________#\n",
    "youtube_url = \"https://www.youtube.com/@bonappetit/featured\"\n",
    "driver.get(youtube_url)\n",
    "\n",
    "yt_title = []\n",
    "title = driver.find_element(By.XPATH, './/*[@id=\"text-container\"]').text #XPATH Version \n",
    "#title = driver.find_element(By.CSS_SELECTOR, '#text').text #This is the CSS Selector Verison\n",
    "\n",
    "yt_title.append(title)\n",
    "print(yt_title)\n",
    "#driver.quit()"
   ]
  },
  {
   "cell_type": "code",
   "execution_count": 59,
   "id": "8db85320",
   "metadata": {},
   "outputs": [],
   "source": [
    "driver.quit()"
   ]
  },
  {
   "cell_type": "markdown",
   "id": "ea7da0f2",
   "metadata": {},
   "source": [
    "# 2. Adding multiple urls that you want to pull info from"
   ]
  },
  {
   "cell_type": "code",
   "execution_count": 5,
   "id": "438516c3",
   "metadata": {},
   "outputs": [
    {
     "name": "stdout",
     "output_type": "stream",
     "text": [
      "['Bon Appétit', 'Architectural Digest', 'SmarterEveryDay']\n"
     ]
    }
   ],
   "source": [
    "driver_path = Service(r\"C:\\Users\\moumi\\OneDrive\\Desktop.exe\")\n",
    "chrome_options.add_argument(\"--window-size=1900,1000\")\n",
    "driver = webdriver.Chrome(service = driver_path, options = chrome_options)\n",
    "#__________________________________________________________________________________________________#\n",
    "youtube_urls = [\"https://www.youtube.com/@bonappetit/featured\", 'https://www.youtube.com/user/ArchitecturalDigest', 'https://www.youtube.com/user/destinws2']\n",
    "\n",
    "counter = 0\n",
    "yt_title = []\n",
    "\n",
    "for u in youtube_urls: \n",
    "    driver.get(youtube_urls[0+counter])\n",
    "    driver.implicitly_wait(7)\n",
    "    title = driver.find_element(By.XPATH, './/*[@id=\"text-container\"]').text\n",
    "    counter += 1\n",
    "    yt_title.append(title)\n",
    "    \n",
    "print(yt_title)"
   ]
  },
  {
   "cell_type": "code",
   "execution_count": 57,
   "id": "218d443c",
   "metadata": {},
   "outputs": [],
   "source": [
    "driver.quit()"
   ]
  },
  {
   "cell_type": "markdown",
   "id": "efe70fd5",
   "metadata": {},
   "source": [
    "# 3.Interacting with the website through buttons "
   ]
  },
  {
   "cell_type": "code",
   "execution_count": 6,
   "id": "9f24be1a",
   "metadata": {},
   "outputs": [
    {
     "name": "stdout",
     "output_type": "stream",
     "text": [
      "non_text version:  <selenium.webdriver.remote.webelement.WebElement (session=\"4c4987b8b106beae33a8be7dca1bb441\", element=\"35ed83aa-a0a9-46e4-b17f-1f8fd3b493f9\")>\n",
      "Text version:  1,718,404,849 views\n"
     ]
    }
   ],
   "source": [
    "driver_path = Service(r\"C:\\Users\\moumi\\OneDrive\\Desktop.exe\")\n",
    "chrome_options.add_argument(\"--window-size=1900,1000\")\n",
    "driver = webdriver.Chrome(service = driver_path, options = chrome_options)\n",
    "#____________________________________________________________________________________________________#\n",
    "youtube_url = \"https://www.youtube.com/@bonappetit/featured\"\n",
    "driver.get(youtube_url)\n",
    "\n",
    "driver.implicitly_wait(7)\n",
    "driver.find_element(By.XPATH, './/div[normalize-space(.)=\"About\"]/ancestor::tp-yt-paper-tab[@class=\"style-scope ytd-c4-tabbed-header-renderer\"]').click()\n",
    "tot_views = driver.find_element(By.XPATH,'//*[@id=\"right-column\"]/yt-formatted-string[3]')\n",
    "\n",
    "print(\"non_text version: \", tot_views)\n",
    "print(\"Text version: \", tot_views.text)"
   ]
  },
  {
   "cell_type": "code",
   "execution_count": 127,
   "id": "38b6f829",
   "metadata": {},
   "outputs": [],
   "source": [
    "driver.quit()"
   ]
  },
  {
   "cell_type": "markdown",
   "id": "e01a5cbb",
   "metadata": {},
   "source": [
    "# 4. Scrolling through a website "
   ]
  },
  {
   "cell_type": "code",
   "execution_count": 7,
   "id": "8909a6a3",
   "metadata": {},
   "outputs": [],
   "source": [
    "driver_path = Service(r\"C:\\Users\\moumi\\OneDrive\\Desktop.exe\")\n",
    "chrome_options.add_argument(\"--window-size=1900,1000\")\n",
    "driver = webdriver.Chrome(service = driver_path, options = chrome_options)\n",
    "#____________________________________________________________________________________________________#\n",
    "youtube_url = \"https://www.youtube.com/@bonappetit/featured\"\n",
    "driver.get(youtube_url)\n",
    "\n",
    "driver.implicitly_wait(20)\n",
    "\n",
    "driver.execute_script(\"window.scrollBy(0, 1000)\")"
   ]
  },
  {
   "cell_type": "code",
   "execution_count": 121,
   "id": "13154bef",
   "metadata": {},
   "outputs": [],
   "source": [
    "driver.quit()"
   ]
  },
  {
   "cell_type": "markdown",
   "id": "fd63e40a",
   "metadata": {},
   "source": [
    "# 5. Closing a pop up window "
   ]
  },
  {
   "cell_type": "code",
   "execution_count": 118,
   "id": "666deeb2",
   "metadata": {},
   "outputs": [
    {
     "name": "stdout",
     "output_type": "stream",
     "text": [
      "Pop_up Occured\n"
     ]
    }
   ],
   "source": [
    "driver_path = Service(r\"C:\\Slenium Drivers\\chromedriver.exe\")\n",
    "chrome_options.add_argument(\"--window-size=1900,1000\")\n",
    "driver = webdriver.Chrome(service = driver_path, options = chrome_options)\n",
    "#____________________________________________________________________________________________________#\n",
    "twitter_url = \"https://twitter.com/search?q=%22Glory%20to%20Ukraine%22&src=trend_click&vertical=trends\"\n",
    "driver.get(twitter_url)\n",
    "\n",
    "driver.implicitly_wait(20)\n",
    "\n",
    "if EC.presence_of_element_located(driver.find_element(By.XPATH, './/*[@id=\"layers\"]/div[2]/div/div/div/div/div/div[2]/div[2]/div/div[2]/div/div[2]/div[1]/div[1]/span')):\n",
    "    print(\"Pop_up Occured\")\n",
    "    time.sleep(2) \n",
    "    driver.find_element(By.XPATH, './/*[@id=\"layers\"]/div[2]/div/div/div/div/div/div[2]/div[2]/div/div[1]/div/div/div/div[1]/div').click()\n",
    "else: \n",
    "    print(\"No pop_up\")"
   ]
  },
  {
   "cell_type": "code",
   "execution_count": 141,
   "id": "861967e1",
   "metadata": {},
   "outputs": [],
   "source": [
    "driver.quit()\n"
   ]
  },
  {
   "cell_type": "markdown",
   "id": "3a03da1f",
   "metadata": {},
   "source": [
    "# Getting URL's from a webpage "
   ]
  },
  {
   "cell_type": "code",
   "execution_count": 161,
   "id": "60411e7e",
   "metadata": {},
   "outputs": [
    {
     "name": "stdout",
     "output_type": "stream",
     "text": [
      "['https://www.youtube.com/watch?v=O82BSEwUJok', 'https://www.youtube.com/watch?v=Zmr4VyFmYng', 'https://www.youtube.com/watch?v=Br6zFjFINqQ', 'https://www.youtube.com/watch?v=0PKgLKOhH10', 'https://www.youtube.com/watch?v=4SaeNBo1uuE', 'https://www.youtube.com/watch?v=gGsy9bqpbaU', 'https://www.youtube.com/watch?v=An4Nu3cydOg', 'https://www.youtube.com/watch?v=ml_KwtaTC-A', 'https://www.youtube.com/watch?v=j5pcpuTWP6U', 'https://www.youtube.com/watch?v=LgVVFa3zFqw', 'https://www.youtube.com/watch?v=Wpcvwsiyh2Y', 'https://www.youtube.com/watch?v=OGpMnx_PFLk', 'https://www.youtube.com/watch?v=yN7txp7DqSU', 'https://www.youtube.com/watch?v=9MeXHNBBTpo', 'https://www.youtube.com/watch?v=hGJWUg4wx78', 'https://www.youtube.com/watch?v=1spBBO543xg', 'https://www.youtube.com/watch?v=3WQqxyOvjxE', 'https://www.youtube.com/watch?v=_96sBTSpgdM', 'https://www.youtube.com/watch?v=dpSkVa9kE20', 'https://www.youtube.com/watch?v=e5muEaKa8Ps', 'https://www.youtube.com/watch?v=KMd4Ft4lnP4', 'https://www.youtube.com/watch?v=5OOysoA71yU', 'https://www.youtube.com/watch?v=PMFooEhH1jE', 'https://www.youtube.com/watch?v=0rFt4G8hcHw', 'https://www.youtube.com/watch?v=h9GCK1XMEY0', 'https://www.youtube.com/watch?v=fFtqOSfkKH8', 'https://www.youtube.com/watch?v=Q2-UqR-cqnU', 'https://www.youtube.com/watch?v=BHT_ZOnXCBQ', None]\n"
     ]
    }
   ],
   "source": [
    "driver_path = Service(r\"C:\\Slenium Drivers\\chromedriver.exe\")\n",
    "chrome_options.add_argument(\"--window-size=1900,1000\")\n",
    "driver = webdriver.Chrome(service = driver_path, options = chrome_options)\n",
    "#____________________________________________________________________________________________________#\n",
    "yt_url = \"https://www.youtube.com/@bonappetit/videos\"\n",
    "driver.get(yt_url)\n",
    "\n",
    "driver.implicitly_wait(20)\n",
    "\n",
    "vids_urls = []\n",
    "video_urls = driver.find_elements(By.XPATH, './/*[@id=\"video-title-link\"]')\n",
    "\n",
    "for url in video_urls:\n",
    "    href = url.get_attribute('href')\n",
    "    vids_urls.append(href)\n",
    "\n",
    "print(vids_urls)"
   ]
  },
  {
   "cell_type": "code",
   "execution_count": 159,
   "id": "c5dfed42",
   "metadata": {},
   "outputs": [],
   "source": [
    "driver.quit()"
   ]
  },
  {
   "cell_type": "markdown",
   "id": "623f5878",
   "metadata": {},
   "source": [
    "# When building a websracper, these tools can help your code adapt to a website and the data you need to gather. \n",
    "\n",
    "### Lets do a more complicated example: First lets talk it out \n",
    "***\n",
    "I want to gather data from one youtube channel, here are some ideas of what I can gather \n",
    "1. The channel name \n",
    "2. The number of subs\n",
    "3. About tab: Date joined\n",
    "4. home page video click\n",
    "5. Video views"
   ]
  },
  {
   "cell_type": "code",
   "execution_count": 207,
   "id": "5e574b29",
   "metadata": {},
   "outputs": [
    {
     "name": "stdout",
     "output_type": "stream",
     "text": [
      "The Channel Name is:  Bon Appétit\n",
      "The Channel has 6.23M subscribers number\n",
      "This channel is loacted in the  United States\n",
      "The home video has  54,983 views\n",
      "4 days ago views\n"
     ]
    }
   ],
   "source": [
    "driver_path = Service(r\"C:\\Slenium Drivers\\chromedriver.exe\")\n",
    "chrome_options.add_argument(\"--window-size=1900,1000\") #pick a size and stick with it, it can change how code intreacts with the website.\n",
    "driver = webdriver.Chrome(service = driver_path, options = chrome_options)\n",
    "#__________________________________________________________________________________________________#\n",
    "youtube_url = \"https://www.youtube.com/@bonappetit/featured\"\n",
    "driver.get(youtube_url)\n",
    "\n",
    "driver.implicitly_wait(20)\n",
    "title = driver.find_element(By.XPATH, './/*[@id=\"text-container\"]').text #XPATH Version \n",
    "subs = driver.find_element(By.XPATH, './/*[@id=\"subscriber-count\"]').text\n",
    "# for sub in subs: #getting the subscriber count\n",
    "#     channel_subs = driver.find_element(By.XPATH, './/*[@id=\"subscriber-count\"]').text\n",
    "\n",
    "print('The Channel Name is: ', title)\n",
    "print('The Channel has', channel_subs, 'number')\n",
    "#URL of video \n",
    "\n",
    "driver.find_element(By.XPATH, './/div[normalize-space(.)=\"About\"]/ancestor::tp-yt-paper-tab[@class=\"style-scope ytd-c4-tabbed-header-renderer\"]').click()\n",
    "\n",
    "driver.implicitly_wait(20)\n",
    "location = driver.find_element(By.XPATH, './/*[@id=\"details-container\"]/table/tbody/tr[2]/td[2]/yt-formatted-string').text\n",
    "print('This channel is loacted in the ', location)\n",
    "\n",
    "driver.find_element(By.XPATH, './/div[normalize-space(.)=\"Home\"]/ancestor::tp-yt-paper-tab[@class=\"style-scope ytd-c4-tabbed-header-renderer\"]').click()\n",
    "driver.implicitly_wait(20)\n",
    "vid_views = driver.find_element(By.XPATH, './/*[contains(concat( \" \", @class, \" \" ), concat( \" \", \"ytd-video-meta-block\", \" \" ))]')\n",
    "\n",
    "print(\"The hoem video's data: \", vid_views.text)"
   ]
  },
  {
   "cell_type": "code",
   "execution_count": 204,
   "id": "2d7226fe",
   "metadata": {},
   "outputs": [],
   "source": [
    "driver.quit()    "
   ]
  },
  {
   "cell_type": "markdown",
   "id": "2985e4b6",
   "metadata": {},
   "source": [
    "# Your turn\n",
    "#### Find a youtube channel and use two of the examples above to gather 2 diffrent types of data \n",
    "* Do not use the same youtube channels I did or use the same combined example above, Get creative! "
   ]
  },
  {
   "cell_type": "code",
   "execution_count": 15,
   "id": "7303d61f",
   "metadata": {},
   "outputs": [
    {
     "name": "stdout",
     "output_type": "stream",
     "text": [
      "The Channel Name is:  Mr Bean\n",
      "The Channel has 31.7M subscribers number\n"
     ]
    },
    {
     "ename": "NoSuchElementException",
     "evalue": "Message: no such element: Unable to locate element: {\"method\":\"xpath\",\"selector\":\".//div[normalize-space(.)=\"About\"]/ancestor::tp-yt-paper-tab[@class=\"style-scope ytd-channel-about-metadata-renderer\"]\"}\n  (Session info: chrome=110.0.5481.178)\nStacktrace:\nBacktrace:\n\t(No symbol) [0x011637D3]\n\t(No symbol) [0x010F8B81]\n\t(No symbol) [0x00FFB36D]\n\t(No symbol) [0x0102D382]\n\t(No symbol) [0x0102D4BB]\n\t(No symbol) [0x01063302]\n\t(No symbol) [0x0104B464]\n\t(No symbol) [0x01061215]\n\t(No symbol) [0x0104B216]\n\t(No symbol) [0x01020D97]\n\t(No symbol) [0x0102253D]\n\tGetHandleVerifier [0x013DABF2+2510930]\n\tGetHandleVerifier [0x01408EC1+2700065]\n\tGetHandleVerifier [0x0140C86C+2714828]\n\tGetHandleVerifier [0x01213480+645344]\n\t(No symbol) [0x01100FD2]\n\t(No symbol) [0x01106C68]\n\t(No symbol) [0x01106D4B]\n\t(No symbol) [0x01110D6B]\n\tBaseThreadInitThunk [0x76757D69+25]\n\tRtlInitializeExceptionChain [0x7771BB9B+107]\n\tRtlClearBits [0x7771BB1F+191]\n",
     "output_type": "error",
     "traceback": [
      "\u001b[1;31m---------------------------------------------------------------------------\u001b[0m",
      "\u001b[1;31mNoSuchElementException\u001b[0m                    Traceback (most recent call last)",
      "\u001b[1;32m~\\AppData\\Local\\Temp/ipykernel_5856/4210221667.py\u001b[0m in \u001b[0;36m<module>\u001b[1;34m\u001b[0m\n\u001b[0;32m     15\u001b[0m \u001b[0mprint\u001b[0m\u001b[1;33m(\u001b[0m\u001b[1;34m'The Channel has'\u001b[0m\u001b[1;33m,\u001b[0m \u001b[0msubs\u001b[0m\u001b[1;33m,\u001b[0m \u001b[1;34m'number'\u001b[0m\u001b[1;33m)\u001b[0m\u001b[1;33m\u001b[0m\u001b[1;33m\u001b[0m\u001b[0m\n\u001b[0;32m     16\u001b[0m \u001b[1;31m#URL of video\u001b[0m\u001b[1;33m\u001b[0m\u001b[1;33m\u001b[0m\u001b[0m\n\u001b[1;32m---> 17\u001b[1;33m \u001b[0mdriver\u001b[0m\u001b[1;33m.\u001b[0m\u001b[0mfind_element\u001b[0m\u001b[1;33m(\u001b[0m\u001b[0mBy\u001b[0m\u001b[1;33m.\u001b[0m\u001b[0mXPATH\u001b[0m\u001b[1;33m,\u001b[0m \u001b[1;34m'.//div[normalize-space(.)=\"About\"]/ancestor::tp-yt-paper-tab[@class=\"style-scope ytd-channel-about-metadata-renderer\"]'\u001b[0m\u001b[1;33m)\u001b[0m\u001b[1;33m.\u001b[0m\u001b[0mclick\u001b[0m\u001b[1;33m(\u001b[0m\u001b[1;33m)\u001b[0m\u001b[1;33m\u001b[0m\u001b[1;33m\u001b[0m\u001b[0m\n\u001b[0m\u001b[0;32m     18\u001b[0m \u001b[0mdriver\u001b[0m\u001b[1;33m.\u001b[0m\u001b[0mimplicitly_wait\u001b[0m\u001b[1;33m(\u001b[0m\u001b[1;36m20\u001b[0m\u001b[1;33m)\u001b[0m\u001b[1;33m\u001b[0m\u001b[1;33m\u001b[0m\u001b[0m\n\u001b[0;32m     19\u001b[0m \u001b[0mdriver\u001b[0m\u001b[1;33m.\u001b[0m\u001b[0mfind_element\u001b[0m\u001b[1;33m(\u001b[0m\u001b[0mBy\u001b[0m\u001b[1;33m.\u001b[0m\u001b[0mXPATH\u001b[0m\u001b[1;33m,\u001b[0m \u001b[1;34m'.//div[normalize-space(.)=\"Home\"]/ancestor::tp-yt-paper-tab[@class=\"style-scope ytd-c4-tabbed-header-renderer\"]'\u001b[0m\u001b[1;33m)\u001b[0m\u001b[1;33m.\u001b[0m\u001b[0mclick\u001b[0m\u001b[1;33m(\u001b[0m\u001b[1;33m)\u001b[0m\u001b[1;33m\u001b[0m\u001b[1;33m\u001b[0m\u001b[0m\n",
      "\u001b[1;32m~\\anaconda3\\lib\\site-packages\\selenium\\webdriver\\remote\\webdriver.py\u001b[0m in \u001b[0;36mfind_element\u001b[1;34m(self, by, value)\u001b[0m\n\u001b[0;32m    828\u001b[0m             \u001b[0mvalue\u001b[0m \u001b[1;33m=\u001b[0m \u001b[1;34mf'[name=\"{value}\"]'\u001b[0m\u001b[1;33m\u001b[0m\u001b[1;33m\u001b[0m\u001b[0m\n\u001b[0;32m    829\u001b[0m \u001b[1;33m\u001b[0m\u001b[0m\n\u001b[1;32m--> 830\u001b[1;33m         \u001b[1;32mreturn\u001b[0m \u001b[0mself\u001b[0m\u001b[1;33m.\u001b[0m\u001b[0mexecute\u001b[0m\u001b[1;33m(\u001b[0m\u001b[0mCommand\u001b[0m\u001b[1;33m.\u001b[0m\u001b[0mFIND_ELEMENT\u001b[0m\u001b[1;33m,\u001b[0m \u001b[1;33m{\u001b[0m\u001b[1;34m\"using\"\u001b[0m\u001b[1;33m:\u001b[0m \u001b[0mby\u001b[0m\u001b[1;33m,\u001b[0m \u001b[1;34m\"value\"\u001b[0m\u001b[1;33m:\u001b[0m \u001b[0mvalue\u001b[0m\u001b[1;33m}\u001b[0m\u001b[1;33m)\u001b[0m\u001b[1;33m[\u001b[0m\u001b[1;34m\"value\"\u001b[0m\u001b[1;33m]\u001b[0m\u001b[1;33m\u001b[0m\u001b[1;33m\u001b[0m\u001b[0m\n\u001b[0m\u001b[0;32m    831\u001b[0m \u001b[1;33m\u001b[0m\u001b[0m\n\u001b[0;32m    832\u001b[0m     \u001b[1;32mdef\u001b[0m \u001b[0mfind_elements\u001b[0m\u001b[1;33m(\u001b[0m\u001b[0mself\u001b[0m\u001b[1;33m,\u001b[0m \u001b[0mby\u001b[0m\u001b[1;33m=\u001b[0m\u001b[0mBy\u001b[0m\u001b[1;33m.\u001b[0m\u001b[0mID\u001b[0m\u001b[1;33m,\u001b[0m \u001b[0mvalue\u001b[0m\u001b[1;33m:\u001b[0m \u001b[0mOptional\u001b[0m\u001b[1;33m[\u001b[0m\u001b[0mstr\u001b[0m\u001b[1;33m]\u001b[0m \u001b[1;33m=\u001b[0m \u001b[1;32mNone\u001b[0m\u001b[1;33m)\u001b[0m \u001b[1;33m->\u001b[0m \u001b[0mList\u001b[0m\u001b[1;33m[\u001b[0m\u001b[0mWebElement\u001b[0m\u001b[1;33m]\u001b[0m\u001b[1;33m:\u001b[0m\u001b[1;33m\u001b[0m\u001b[1;33m\u001b[0m\u001b[0m\n",
      "\u001b[1;32m~\\anaconda3\\lib\\site-packages\\selenium\\webdriver\\remote\\webdriver.py\u001b[0m in \u001b[0;36mexecute\u001b[1;34m(self, driver_command, params)\u001b[0m\n\u001b[0;32m    438\u001b[0m         \u001b[0mresponse\u001b[0m \u001b[1;33m=\u001b[0m \u001b[0mself\u001b[0m\u001b[1;33m.\u001b[0m\u001b[0mcommand_executor\u001b[0m\u001b[1;33m.\u001b[0m\u001b[0mexecute\u001b[0m\u001b[1;33m(\u001b[0m\u001b[0mdriver_command\u001b[0m\u001b[1;33m,\u001b[0m \u001b[0mparams\u001b[0m\u001b[1;33m)\u001b[0m\u001b[1;33m\u001b[0m\u001b[1;33m\u001b[0m\u001b[0m\n\u001b[0;32m    439\u001b[0m         \u001b[1;32mif\u001b[0m \u001b[0mresponse\u001b[0m\u001b[1;33m:\u001b[0m\u001b[1;33m\u001b[0m\u001b[1;33m\u001b[0m\u001b[0m\n\u001b[1;32m--> 440\u001b[1;33m             \u001b[0mself\u001b[0m\u001b[1;33m.\u001b[0m\u001b[0merror_handler\u001b[0m\u001b[1;33m.\u001b[0m\u001b[0mcheck_response\u001b[0m\u001b[1;33m(\u001b[0m\u001b[0mresponse\u001b[0m\u001b[1;33m)\u001b[0m\u001b[1;33m\u001b[0m\u001b[1;33m\u001b[0m\u001b[0m\n\u001b[0m\u001b[0;32m    441\u001b[0m             \u001b[0mresponse\u001b[0m\u001b[1;33m[\u001b[0m\u001b[1;34m\"value\"\u001b[0m\u001b[1;33m]\u001b[0m \u001b[1;33m=\u001b[0m \u001b[0mself\u001b[0m\u001b[1;33m.\u001b[0m\u001b[0m_unwrap_value\u001b[0m\u001b[1;33m(\u001b[0m\u001b[0mresponse\u001b[0m\u001b[1;33m.\u001b[0m\u001b[0mget\u001b[0m\u001b[1;33m(\u001b[0m\u001b[1;34m\"value\"\u001b[0m\u001b[1;33m,\u001b[0m \u001b[1;32mNone\u001b[0m\u001b[1;33m)\u001b[0m\u001b[1;33m)\u001b[0m\u001b[1;33m\u001b[0m\u001b[1;33m\u001b[0m\u001b[0m\n\u001b[0;32m    442\u001b[0m             \u001b[1;32mreturn\u001b[0m \u001b[0mresponse\u001b[0m\u001b[1;33m\u001b[0m\u001b[1;33m\u001b[0m\u001b[0m\n",
      "\u001b[1;32m~\\anaconda3\\lib\\site-packages\\selenium\\webdriver\\remote\\errorhandler.py\u001b[0m in \u001b[0;36mcheck_response\u001b[1;34m(self, response)\u001b[0m\n\u001b[0;32m    243\u001b[0m                 \u001b[0malert_text\u001b[0m \u001b[1;33m=\u001b[0m \u001b[0mvalue\u001b[0m\u001b[1;33m[\u001b[0m\u001b[1;34m\"alert\"\u001b[0m\u001b[1;33m]\u001b[0m\u001b[1;33m.\u001b[0m\u001b[0mget\u001b[0m\u001b[1;33m(\u001b[0m\u001b[1;34m\"text\"\u001b[0m\u001b[1;33m)\u001b[0m\u001b[1;33m\u001b[0m\u001b[1;33m\u001b[0m\u001b[0m\n\u001b[0;32m    244\u001b[0m             \u001b[1;32mraise\u001b[0m \u001b[0mexception_class\u001b[0m\u001b[1;33m(\u001b[0m\u001b[0mmessage\u001b[0m\u001b[1;33m,\u001b[0m \u001b[0mscreen\u001b[0m\u001b[1;33m,\u001b[0m \u001b[0mstacktrace\u001b[0m\u001b[1;33m,\u001b[0m \u001b[0malert_text\u001b[0m\u001b[1;33m)\u001b[0m  \u001b[1;31m# type: ignore[call-arg]  # mypy is not smart enough here\u001b[0m\u001b[1;33m\u001b[0m\u001b[1;33m\u001b[0m\u001b[0m\n\u001b[1;32m--> 245\u001b[1;33m         \u001b[1;32mraise\u001b[0m \u001b[0mexception_class\u001b[0m\u001b[1;33m(\u001b[0m\u001b[0mmessage\u001b[0m\u001b[1;33m,\u001b[0m \u001b[0mscreen\u001b[0m\u001b[1;33m,\u001b[0m \u001b[0mstacktrace\u001b[0m\u001b[1;33m)\u001b[0m\u001b[1;33m\u001b[0m\u001b[1;33m\u001b[0m\u001b[0m\n\u001b[0m",
      "\u001b[1;31mNoSuchElementException\u001b[0m: Message: no such element: Unable to locate element: {\"method\":\"xpath\",\"selector\":\".//div[normalize-space(.)=\"About\"]/ancestor::tp-yt-paper-tab[@class=\"style-scope ytd-channel-about-metadata-renderer\"]\"}\n  (Session info: chrome=110.0.5481.178)\nStacktrace:\nBacktrace:\n\t(No symbol) [0x011637D3]\n\t(No symbol) [0x010F8B81]\n\t(No symbol) [0x00FFB36D]\n\t(No symbol) [0x0102D382]\n\t(No symbol) [0x0102D4BB]\n\t(No symbol) [0x01063302]\n\t(No symbol) [0x0104B464]\n\t(No symbol) [0x01061215]\n\t(No symbol) [0x0104B216]\n\t(No symbol) [0x01020D97]\n\t(No symbol) [0x0102253D]\n\tGetHandleVerifier [0x013DABF2+2510930]\n\tGetHandleVerifier [0x01408EC1+2700065]\n\tGetHandleVerifier [0x0140C86C+2714828]\n\tGetHandleVerifier [0x01213480+645344]\n\t(No symbol) [0x01100FD2]\n\t(No symbol) [0x01106C68]\n\t(No symbol) [0x01106D4B]\n\t(No symbol) [0x01110D6B]\n\tBaseThreadInitThunk [0x76757D69+25]\n\tRtlInitializeExceptionChain [0x7771BB9B+107]\n\tRtlClearBits [0x7771BB1F+191]\n"
     ]
    }
   ],
   "source": [
    "driver_path = Service(r\"C:\\Users\\moumi\\OneDrive\\Desktop.exe\")\n",
    "chrome_options.add_argument(\"--window-size=1900,1000\") #pick a size and stick with it, it can change how code intreacts with the website.\n",
    "driver = webdriver.Chrome(service = driver_path, options = chrome_options)\n",
    "#__________________________________________________________________________________________________#\n",
    "youtube_url = \"https://www.youtube.com/@MrBean\"\n",
    "driver.get(youtube_url)\n",
    "\n",
    "driver.implicitly_wait(20)\n",
    "title = driver.find_element(By.XPATH, './/*//*[@id=\"text\"]').text #XPATH Version \n",
    "subs = driver.find_element(By.XPATH, './/*//*[@id=\"subscriber-count\"]').text\n",
    "# for sub in subs: #getting the subscriber count\n",
    "#     channel_subs = driver.find_element(By.XPATH, './/*[@id=\"subscriber-count\"]').text\n",
    "\n",
    "print('The Channel Name is: ', title)\n",
    "print('The Channel has', subs, 'number')\n",
    "#URL of video \n",
    "driver.find_element(By.XPATH, './/div[normalize-space(.)=\"About\"]/ancestor::tp-yt-paper-tab[@class=\"style-scope ytd-channel-about-metadata-renderer\"]').click()\n",
    "driver.implicitly_wait(20)\n",
    "driver.find_element(By.XPATH, './/div[normalize-space(.)=\"Home\"]/ancestor::tp-yt-paper-tab[@class=\"style-scope ytd-c4-tabbed-header-renderer\"]').click()\n",
    "driver.implicitly_wait(20)\n",
    "vid_views = driver.find_element(By.XPATH, './/*[contains(concat( \" \", @class, \" \" ), concat( \" \", \"ytd-video-meta-block\", \" \" ))]')\n",
    "\n",
    "print(\"The hoem video's data: \", vid_views.text)\n"
   ]
  },
  {
   "cell_type": "code",
   "execution_count": null,
   "id": "cf33c2b3",
   "metadata": {},
   "outputs": [],
   "source": []
  }
 ],
 "metadata": {
  "kernelspec": {
   "display_name": "Python 3 (ipykernel)",
   "language": "python",
   "name": "python3"
  },
  "language_info": {
   "codemirror_mode": {
    "name": "ipython",
    "version": 3
   },
   "file_extension": ".py",
   "mimetype": "text/x-python",
   "name": "python",
   "nbconvert_exporter": "python",
   "pygments_lexer": "ipython3",
   "version": "3.9.7"
  }
 },
 "nbformat": 4,
 "nbformat_minor": 5
}
