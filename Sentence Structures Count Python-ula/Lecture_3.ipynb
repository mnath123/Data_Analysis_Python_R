{
 "cells": [
  {
   "cell_type": "markdown",
   "metadata": {},
   "source": [
    "# Course: Intro to Python & R for Data Analysis\n",
    "## Lecture: Sentence Structures & Count Python-ula\n",
    "Professor: Mary Kaltenberg\n",
    "\n",
    "Fall 2020\n",
    "\n",
    "contact: mkaltenberg@pace.edu\n",
    "\n",
    "About me: www.mkaltenberg.com"
   ]
  },
  {
   "cell_type": "markdown",
   "metadata": {},
   "source": [
    "## Objectives:\n",
    "\n",
    "\n",
    "<table>\n",
    "<tr><td style=\"text-align:left\">\n",
    "    <ul>\n",
    "  <li>Review For Loops</li>\n",
    "  <li>Nested Loops</li>\n",
    "  <li>While and Break Statements</li>\n",
    "  <li>Begin exploring the power of numpy</li>\n",
    "    <ul>\n",
    "      <li>what are elements, arrays and matrices</li>\n",
    "       <li> basic statistic functions in numpy</li>\n",
    "    </ul> \n",
    "</ul> \n",
    "</td><td>\n",
    "<img src =\"https://media.giphy.com/media/3o85xzkvl1siB2rHSo/giphy.gif\" width = 250 >\n",
    "</td></tr></table>\n",
    "    "
   ]
  },
  {
   "cell_type": "markdown",
   "metadata": {},
   "source": [
    "## For loops\n",
    "Recall that for loops always begin with `for` followed by `in`. Generally it is:\n",
    "\n",
    "`for item in iterable:\n",
    "    Code to run`\n",
    "    \n",
    "The code to run can be combined with conditional statements and boolean expressions (and honestly, just about anything). We spent a lot of time talking about if, elif, and else conditions and a variety of boolean expressions - this will become very handy in for loops."
   ]
  },
  {
   "cell_type": "code",
   "execution_count": 1,
   "metadata": {},
   "outputs": [
    {
     "name": "stdout",
     "output_type": "stream",
     "text": [
      "A state that start with N\n",
      "A state that start with N\n",
      "A state that start with M\n",
      "A state that starts with something else\n",
      "A state that start with N\n",
      "A state that start with M\n",
      "A state that starts with something else\n",
      "A state that starts with something else\n",
      "A state that starts with something else\n"
     ]
    }
   ],
   "source": [
    "# Let's take the example of the nested conditional statement for loop\n",
    "northeast = ['New York','New Jersey', 'Massachusettes','Vermont','New Hampshire','Maine',\n",
    "             'Rhode Island','Connecticut','Pennsylvania']\n",
    "for i in northeast:\n",
    "    if i.startswith('N'):\n",
    "        print('A state that start with N')\n",
    "    elif i.startswith('M'):\n",
    "        print('A state that start with M')\n",
    "    else: \n",
    "        print('A state that starts with something else')\n",
    "        \n",
    "        "
   ]
  },
  {
   "cell_type": "code",
   "execution_count": 7,
   "metadata": {},
   "outputs": [],
   "source": [
    "# What if I want to add up the number of states in each of these categories?\n",
    "# We can create variables that if the condition is met, it will add one and \n",
    "#do this iteratively until the end of the end of the list\n",
    "\n",
    "nstates = 0\n",
    "mstates =0 \n",
    "otherstates= 0\n",
    "\n",
    "northeast = ['New York','New Jersey', 'Massachusettes','Vermont','New Hampshire',\n",
    "             'Maine','Rhode Island','Connecticut','Pennsylvania']\n",
    "for i in northeast:\n",
    "    if i.startswith('N'):\n",
    "        nstates = nstates+1\n",
    "    elif i.startswith('M'):\n",
    "        mstates = mstates+1\n",
    "    else: \n",
    "        otherstates = otherstates+1"
   ]
  },
  {
   "cell_type": "code",
   "execution_count": 8,
   "metadata": {},
   "outputs": [
    {
     "name": "stdout",
     "output_type": "stream",
     "text": [
      "3\n",
      "2\n",
      "4\n"
     ]
    }
   ],
   "source": [
    "print(nstates)\n",
    "print(mstates)\n",
    "print(otherstates)"
   ]
  },
  {
   "cell_type": "markdown",
   "metadata": {},
   "source": [
    "#### Which variables are initalized in the above loop?\n",
    "nstates, mstates, and other states\n",
    "\n",
    "#### What happens if I don't initialize the above for loop?\n",
    "it an error will pop up that nstates is not defined. We must defined the initial value for each variable.\n",
    "if I already ran the loop and defined it, it will continue to count unless we reset it."
   ]
  },
  {
   "cell_type": "code",
   "execution_count": 15,
   "metadata": {},
   "outputs": [],
   "source": [
    "# How do I figure out the total number of items in the list?\n",
    "total = len(northeast) # length is a function that can tell me how many element are in a list\n",
    "fraction_nstates = nstates/total\n",
    "fraction_mstates = mstates/total\n",
    "fraction_otherstates = otherstates/total\n",
    "\n",
    "#How can I simplify this code?"
   ]
  },
  {
   "cell_type": "code",
   "execution_count": null,
   "metadata": {},
   "outputs": [],
   "source": []
  },
  {
   "cell_type": "code",
   "execution_count": 16,
   "metadata": {},
   "outputs": [
    {
     "name": "stdout",
     "output_type": "stream",
     "text": [
      "0.3333333333333333\n",
      "0.2222222222222222\n",
      "0.4444444444444444\n"
     ]
    },
    {
     "data": {
      "text/plain": [
       "[0.3333333333333333, 0.2222222222222222, 0.4444444444444444]"
      ]
     },
     "execution_count": 16,
     "metadata": {},
     "output_type": "execute_result"
    }
   ],
   "source": [
    "# we can create a for loop out of this and save the information into a list.\n",
    "total = len(northeast) # length is a function that can tell me how many element are in a list\n",
    "ne_statnames = [nstates, mstates, otherstates]  # create a list of items (our variables)\n",
    "fraction=[] #initialize a list that is empty (contains no items), and name it fraction\n",
    "\n",
    "for i in ne_statnames: \n",
    "    a = i/total # assign a variable a to be the fraction of the item divided by the total\n",
    "    #(the item is the number if states in that category and total is number of elements in the list that we defined earlier)\n",
    "    print(a)\n",
    "    fraction.append(a) #for the list called fraction, append the value a in the list\n",
    "fraction    \n",
    "\n",
    "#this loop will calculate the fraction of states in the list and the append that number to a list called fraction \n",
    "# it will do this until the end of the list is reached"
   ]
  },
  {
   "cell_type": "code",
   "execution_count": 17,
   "metadata": {
    "scrolled": true
   },
   "outputs": [
    {
     "data": {
      "text/plain": [
       "list"
      ]
     },
     "execution_count": 17,
     "metadata": {},
     "output_type": "execute_result"
    }
   ],
   "source": [
    "# You must initialize the list by creating a variable with an empty list\n",
    "fraction=[]  # It's empty\n",
    "type(fraction) #and you can see here this is a list"
   ]
  },
  {
   "cell_type": "markdown",
   "metadata": {},
   "source": [
    "### Append\n",
    "\n",
    "INCREDIBLY useful function. You will use this very often.\n",
    "\n",
    "You create a variable that is an empty list, and as the loop proceeds it will add an item to the variable. Append can be used in a variety of settings including dataframes."
   ]
  },
  {
   "cell_type": "code",
   "execution_count": 18,
   "metadata": {},
   "outputs": [
    {
     "data": {
      "text/plain": [
       "[9, 27, 45]"
      ]
     },
     "execution_count": 18,
     "metadata": {},
     "output_type": "execute_result"
    }
   ],
   "source": [
    "list1 = [3,9,15]\n",
    "new_list = [] # create an empty list\n",
    "\n",
    "for i in list1: # for each item in this list\n",
    "    k = i*3 #multiple it by 3 and save it as the variable k\n",
    "    new_list.append(k) # add the variable k to the list called new_list\n",
    "new_list"
   ]
  },
  {
   "cell_type": "markdown",
   "metadata": {},
   "source": [
    "## Nested Loops\n",
    "\n",
    "A loop within a loop. What it will do is loop through the first set and then the second set in that order."
   ]
  },
  {
   "cell_type": "code",
   "execution_count": 8,
   "metadata": {},
   "outputs": [],
   "source": [
    "for i in range(1,5):\n",
    "    print('outer loop item'+str(i))\n",
    "    for j in range(6,9):\n",
    "        print('inner loop item'+str(j))"
   ]
  },
  {
   "cell_type": "markdown",
   "metadata": {},
   "source": [
    "<img src =\"python-nested-for-loop.webp\" width = 500 >"
   ]
  },
  {
   "cell_type": "code",
   "execution_count": 19,
   "metadata": {},
   "outputs": [
    {
     "name": "stdout",
     "output_type": "stream",
     "text": [
      "New York\n",
      "New Jersey\n",
      "Massachusettes\n",
      "Massachusettes is in new england\n",
      "Vermont\n",
      "Vermont is in new england\n",
      "New Hampshire\n",
      "New Hampshire is in new england\n",
      "Maine\n",
      "Maine is in new england\n",
      "Rhode Island\n",
      "Rhode Island is in new england\n",
      "Connecticut\n",
      "Connecticut is in new england\n",
      "Pennsylvania\n"
     ]
    },
    {
     "data": {
      "text/plain": [
       "6"
      ]
     },
     "execution_count": 19,
     "metadata": {},
     "output_type": "execute_result"
    }
   ],
   "source": [
    "# Let's take the example of the nested conditional statement for loop\n",
    "northeast = ['New York','New Jersey', 'Massachusettes','Vermont','New Hampshire',\n",
    "             'Maine','Rhode Island','Connecticut','Pennsylvania']\n",
    "newengland = ['Massachusettes','Connecticut','Vermont','New Hampshire','Maine','Rhode Island']\n",
    "tot_states_ne = 0\n",
    "\n",
    "for i in northeast:  # In this loop look at the first item and;\n",
    "    print(i) # print the value i\n",
    "    if i in newengland: # then evaluate if the item i is in the list new england\n",
    "        print(i, 'is in new england') # if that's true, print this statement\n",
    "        tot_states_ne = tot_states_ne+1 # and add 1 to the variable tot_state_ne; \n",
    "#         move onto the next item in the list new england until there are no more items, \n",
    "# then go to the next item in the list northest\n",
    "tot_states_ne"
   ]
  },
  {
   "cell_type": "code",
   "execution_count": 10,
   "metadata": {},
   "outputs": [],
   "source": [
    "# Adding 1 that initalizes at 0 is very useful to help you count \n",
    "# The total cout at the end of this for loop will show you how many iterations it took to complete the for loop\n",
    "counter = 0\n",
    "for i in northeast:\n",
    "    \n",
    "    if i in newengland:\n",
    "        print(i, 'is in new england')\n",
    "    \n",
    "    counter = counter+1\n",
    "counter"
   ]
  },
  {
   "cell_type": "markdown",
   "metadata": {},
   "source": [
    "Another way to have a counter is to use an addition assignment `+=`\n",
    "\n",
    "`+=` can be very useful to continually add one to a variable. This is often used in counters to help you keep track of the number of iterations that you \n",
    "\n",
    "This is equivalent to i = i+1"
   ]
  },
  {
   "cell_type": "code",
   "execution_count": 20,
   "metadata": {},
   "outputs": [
    {
     "name": "stdout",
     "output_type": "stream",
     "text": [
      "Massachusettes is in new england\n",
      "Vermont is in new england\n",
      "New Hampshire is in new england\n",
      "Maine is in new england\n",
      "Rhode Island is in new england\n",
      "Connecticut is in new england\n"
     ]
    },
    {
     "data": {
      "text/plain": [
       "9"
      ]
     },
     "execution_count": 20,
     "metadata": {},
     "output_type": "execute_result"
    }
   ],
   "source": [
    "counter = 0\n",
    "for i in northeast:\n",
    "    \n",
    "    if i in newengland:\n",
    "        print(i, 'is in new england')\n",
    "    \n",
    "    counter +=1\n",
    "counter"
   ]
  },
  {
   "cell_type": "markdown",
   "metadata": {},
   "source": [
    "The above nested loop will first look at the first item (New York) in the first list (northeast) and then look at all of the items in the second list (newengland) that meets the conditional statement. Then it will go to the second item (New Jersey) in the first list (northeast) and then go through all of the items in the second list (newengland).\n",
    "\n",
    "Be careful with nested loops in the logic. Loops will go in order of the loop identified. It will always go to list one and then all the iteams in list two iteratively.\n",
    "\n",
    "More on nested loops [here](https://pynative.com/python-nested-loops/)"
   ]
  },
  {
   "cell_type": "markdown",
   "metadata": {},
   "source": [
    "### In line Nest Loops\n",
    "A very cool feature in python is that you can simplify nested loops and code them in one line and append them. This is very useful for appending data in one line of code. \n",
    "\n",
    "Essentially, after calculating each item, it creates a list out of the results from each iteration and compiling them into one variable (when assigned).\n",
    "\n",
    "Also called list comprehension.\n",
    "\n",
    "`[somecode for i in list1 for j in list2]`\n",
    "\n",
    "You can't do this in a nested block (many multiple conditions)"
   ]
  },
  {
   "cell_type": "code",
   "execution_count": 21,
   "metadata": {},
   "outputs": [],
   "source": [
    "#To be exactly as stated as before\n",
    "nelist = [i+str(' is in new england') for i in northeast if i in newengland]"
   ]
  },
  {
   "cell_type": "code",
   "execution_count": 22,
   "metadata": {},
   "outputs": [
    {
     "data": {
      "text/plain": [
       "['Massachusettes is in new england',\n",
       " 'Vermont is in new england',\n",
       " 'New Hampshire is in new england',\n",
       " 'Maine is in new england',\n",
       " 'Rhode Island is in new england',\n",
       " 'Connecticut is in new england']"
      ]
     },
     "execution_count": 22,
     "metadata": {},
     "output_type": "execute_result"
    }
   ],
   "source": [
    "nelist"
   ]
  },
  {
   "cell_type": "markdown",
   "metadata": {},
   "source": [
    "when you add components to the item i you add the string and denote that information is a string with str() notice the formatting of item i plus the string\n",
    "\n",
    "this is important to make a habit of so that you don't mix types up, if you do, you will get an error\n",
    "\n",
    "In this case the item i is already a string, so it won't give you an error, but it is good practice to always define the type when you add strings.\n",
    "\n",
    "You don't have to use them, but they make code simplified  - we ran a nested loop in one line without having to use the function append\n"
   ]
  },
  {
   "cell_type": "code",
   "execution_count": 23,
   "metadata": {},
   "outputs": [],
   "source": [
    "# Here's another example (a bit more simple)\n",
    "out = []\n",
    "for i in range(5,90,5):\n",
    "    out.append(i)"
   ]
  },
  {
   "cell_type": "code",
   "execution_count": 24,
   "metadata": {},
   "outputs": [
    {
     "data": {
      "text/plain": [
       "[5, 10, 15, 20, 25, 30, 35, 40, 45, 50, 55, 60, 65, 70, 75, 80, 85]"
      ]
     },
     "execution_count": 24,
     "metadata": {},
     "output_type": "execute_result"
    }
   ],
   "source": [
    "# The above is simplified to:\n",
    "[i for i in range(5,90,5)]"
   ]
  },
  {
   "cell_type": "code",
   "execution_count": 26,
   "metadata": {},
   "outputs": [
    {
     "ename": "TypeError",
     "evalue": "unsupported operand type(s) for +: 'int' and 'str'",
     "output_type": "error",
     "traceback": [
      "\u001b[0;31m---------------------------------------------------------------------------\u001b[0m",
      "\u001b[0;31mTypeError\u001b[0m                                 Traceback (most recent call last)",
      "\u001b[0;32m<ipython-input-26-de1f51d0152e>\u001b[0m in \u001b[0;36m<module>\u001b[0;34m\u001b[0m\n\u001b[1;32m      1\u001b[0m \u001b[0;31m# If I assign i to be a number and add it to a string, you will get an error\u001b[0m\u001b[0;34m\u001b[0m\u001b[0;34m\u001b[0m\u001b[0;34m\u001b[0m\u001b[0m\n\u001b[1;32m      2\u001b[0m \u001b[0mi\u001b[0m \u001b[0;34m=\u001b[0m \u001b[0;36m7\u001b[0m\u001b[0;34m\u001b[0m\u001b[0;34m\u001b[0m\u001b[0m\n\u001b[0;32m----> 3\u001b[0;31m \u001b[0mi\u001b[0m \u001b[0;34m+\u001b[0m \u001b[0;34m'bob'\u001b[0m\u001b[0;34m\u001b[0m\u001b[0;34m\u001b[0m\u001b[0m\n\u001b[0m",
      "\u001b[0;31mTypeError\u001b[0m: unsupported operand type(s) for +: 'int' and 'str'"
     ]
    }
   ],
   "source": [
    "# If I assign i to be a number and add it to a string, you will get an error\n",
    "i = 7\n",
    "i + 'bob'"
   ]
  },
  {
   "cell_type": "code",
   "execution_count": 15,
   "metadata": {},
   "outputs": [
    {
     "data": {
      "text/plain": [
       "'7 bob'"
      ]
     },
     "execution_count": 15,
     "metadata": {},
     "output_type": "execute_result"
    }
   ],
   "source": [
    "# When I add elements together, I have to make sure it is the same type\n",
    "i = str(7)\n",
    "i+' bob'"
   ]
  },
  {
   "cell_type": "code",
   "execution_count": 16,
   "metadata": {},
   "outputs": [
    {
     "data": {
      "text/plain": [
       "16"
      ]
     },
     "execution_count": 16,
     "metadata": {},
     "output_type": "execute_result"
    }
   ],
   "source": [
    "i = 7\n",
    "i+9"
   ]
  },
  {
   "cell_type": "code",
   "execution_count": 17,
   "metadata": {},
   "outputs": [
    {
     "data": {
      "text/plain": [
       "[17, 18, 17, 24, 17]"
      ]
     },
     "execution_count": 17,
     "metadata": {},
     "output_type": "execute_result"
    }
   ],
   "source": [
    "# Let's go through another example of nested loops\n",
    "list1 = [3,9,12]\n",
    "x = 0\n",
    "answers = []\n",
    "\n",
    "for i in range(5,10): # for each item in the range of numbers 5 through 9\n",
    "    if (i % 2) == 0: # check to see if i is even (that the remainder of i divided by 2 is equal to 0)\n",
    "        #, if it is true then do code below; if false, move to next conditional\n",
    "        x = i*3 #multiple i by 3 and save it with the variable x\n",
    "    else: #otherwise\n",
    "        for j in list1: # for items that are in list1 and add 5 then,\n",
    "            x = j+5\n",
    "    answers.append(x) # append all of these answers from this loop in one list\n",
    "    \n",
    "#what happens if answers.append(x) is tabbed inward?\n",
    "answers"
   ]
  },
  {
   "cell_type": "markdown",
   "metadata": {},
   "source": [
    "### Let's take this step by step\n",
    "1. for each item in the range of numbers 5 through 9\n",
    "2. Check if that item is even (if the modular of i divided by 2 is equal to 0)\n",
    "    - If it is true, multiple that number by 3\n",
    "    - if it is false, move to the next condition\n",
    "##### Modular\n",
    "`%` is the remainder of an equation in mathematics. It can be very useful for identifying even numbers, as above, or if you want to divide blocks of data evenly and spread the remainder evenly across other groups. \n",
    "\n",
    "3. else condition; (otherwise)\n",
    "   - for each item j in the list called list1\n",
    "    - check to see if the item i is equal to j\n",
    "        - if it is true, add 5\n",
    "        - if it is false, move to the next item j\n",
    "        - if all items j run, move to next code    \n",
    "4. whatever is in x, add x to the list called answers\n",
    "\n",
    "Now let's apply the numbers\n",
    "For the item 5 in the range 5-9\n",
    "2. is the modular of 5 divided by 2 is equal to 0?\n",
    "False; go to next condition\n",
    "3. else: (otherwise)\n",
    "    - if 5 == 3\n",
    "    - False\n",
    "    - if 5 == 9\n",
    "    - False\n",
    "    - if 5 == 12\n",
    "    - False\n",
    "4. append the value of x (0) to the list answers\n",
    "\n",
    "Note: we initialized x to be equal to 0, because there is no additional changes to x after going through this loop, it will append the value of x which is currently 0.\n",
    "Go to next item in range\n",
    "\n",
    "For the item 6 in the range 5-9\n",
    "\n",
    "2. is the modular of 6 divided by 2 is equal to 0?\n",
    "\n",
    "True\n",
    "    - multiply 6*3 and save it in the value x\n",
    "     (x = 18)\n",
    "    - go to next code\n",
    "<!-- 3. else: (otherwise)\n",
    "    - if 6 == 3\n",
    "    - False\n",
    "    - if 6 == 9\n",
    "    - False\n",
    "    - if 6 == 12\n",
    "    - False -->\n",
    "4. append the value of x (18) to the list answers\n",
    "\n",
    "For the item 7 in the range 5-9\n",
    "2. is the modular of 7 divided by 2 is equal to 0?\n",
    "False; go to next conditional\n",
    "<!-- 3. else: (otherwise)\n",
    "    - if 7 == 3\n",
    "    - False\n",
    "    - if 7 == 9\n",
    "    - False\n",
    "    - if 7 == 12\n",
    "    - False -->\n",
    "False; go to next code\n",
    "4. append the value of x (18) to the list answers\n",
    "(that is because the value of x has not changed) in this loop\n",
    "\n",
    "For the item 8 in the range 5-9\n",
    "2. is the modular of 8 divided by 2 is equal to 0?\n",
    "True; \n",
    "    - multiply 8*3 and save it in the value x\n",
    "     (x = 24)\n",
    "    - go to next conditional/line\n",
    "<!-- 3. else: (otherwise)\n",
    "    - if 8 == 3\n",
    "    - False\n",
    "    - if 8 == 9\n",
    "    - False\n",
    "    - if 8 == 12\n",
    "    - False\n",
    "    \n",
    "False; go to next code -->\n",
    "4. append the value of x (24) to the list answers\n",
    "\n",
    "For the item 9 in the range 5-9\n",
    "2. is the modular of 9 divided by 2 is equal to 0?\n",
    "False; go to next conditional\n",
    "3. else: (otherwise)\n",
    "    - if 9 == 3\n",
    "    - False\n",
    "    - if 9 == 9\n",
    "    - True!\n",
    "    \n",
    "    add 5 to 9 an define it to be x (14)\n",
    "\n",
    "4. append the value of x (14) to the list answers\n"
   ]
  },
  {
   "cell_type": "code",
   "execution_count": 18,
   "metadata": {},
   "outputs": [],
   "source": [
    "#Another example\n",
    "x_list = [10,57,89,76,350,126]\n",
    "for i in range(25, 350, 25):\n",
    "    x = i +20\n",
    "    for j in x_list:\n",
    "        if j>100:\n",
    "            x_list = [x-1,j]\n",
    "        else: \n",
    "            x_list2 = [x,j]"
   ]
  },
  {
   "cell_type": "markdown",
   "metadata": {},
   "source": [
    "1. For every item i in the range of 25 to 350 going by 25 (25, 50, 75, etc until 100) add 20 and call that variable x\n",
    "2. For each item j in x_list check to see if the item j in x_list is above 100, if that's true, subtract 1 from x, create a list and call it x_list, otherwise create a list with x and j and name it x_list2\n",
    "3. Go back to the next item in the range 25 to 350 going by 25 and do it again until there are no more items."
   ]
  },
  {
   "cell_type": "markdown",
   "metadata": {},
   "source": [
    "## While"
   ]
  },
  {
   "cell_type": "markdown",
   "metadata": {},
   "source": [
    "\n",
    "while loops are useful when the number of iterations needed depends on the outcome of the loop contents. \n",
    "\n",
    "while loops are commonly used when a loop should only stop if a certain condition is met, such as the number of iterations or if changes are incrementally smaller. The generic structure of a while loop is:\n",
    " \n",
    " `while logical:\n",
    "     run code\n",
    "     update logical`\n",
    " \n",
    "2 things are crucial when using a while loop: \n",
    "- the logical expression must be true when the loop begins (or the loop will be ignored) \n",
    "- the inputs to the logical expression must be updated inside the loop. If they are not, the loop will continue indefinitely\n",
    "\n"
   ]
  },
  {
   "cell_type": "markdown",
   "metadata": {},
   "source": [
    "## break\n",
    "Break are conditions in which your loop will stop when you meet them. It's useful to have breaks if it's something that could potentially go on infinitely. \n",
    "\n",
    "It should almost always be used with the while condition so you can put a break in the infinite cycle, but if a while loop is correctly formatted, you don't have to use it (though, I think it's good to use breaks anyways)"
   ]
  },
  {
   "cell_type": "code",
   "execution_count": 3,
   "metadata": {},
   "outputs": [
    {
     "name": "stdout",
     "output_type": "stream",
     "text": [
      "1\n",
      "2\n",
      "3\n",
      "4\n",
      "5\n",
      "6\n",
      "7\n",
      "8\n",
      "9\n",
      "10\n",
      "11\n",
      "12\n",
      "13\n",
      "14\n",
      "15\n",
      "16\n",
      "17\n",
      "18\n",
      "19\n"
     ]
    }
   ],
   "source": [
    "#while loops will continue until the logical statement that you input is False. \n",
    "# In this case, the logical statement is i less than 20.\n",
    "# The while loop will stop when it hits 20 because 20 is not less than 20 (Thus the last number printed is 19)\n",
    "\n",
    "i = 1\n",
    "while i < 20:\n",
    "    print(i)\n",
    "    i += 1 "
   ]
  },
  {
   "cell_type": "code",
   "execution_count": 4,
   "metadata": {},
   "outputs": [
    {
     "name": "stdout",
     "output_type": "stream",
     "text": [
      "1\n",
      "2\n",
      "3\n",
      "4\n",
      "5\n"
     ]
    }
   ],
   "source": [
    "#In this case, if i is great than 0, the logical statement will always be True \n",
    "# The loop will be indefinite\n",
    "# This is why we must use the break function to tell the loop when to stop.  \n",
    "# Here, the if condition is used and when that if condition is True it will run the following line\n",
    "# Which is to stop the loop (break)\n",
    "\n",
    "i = 1\n",
    "while i > 0:\n",
    "    print(i)\n",
    "    if i == 5:\n",
    "        break\n",
    "    i += 1 "
   ]
  },
  {
   "cell_type": "code",
   "execution_count": 5,
   "metadata": {},
   "outputs": [
    {
     "name": "stdout",
     "output_type": "stream",
     "text": [
      "loan after 15 years of interest 70742.12\n"
     ]
    }
   ],
   "source": [
    "# Interest rates on loans example\n",
    "\n",
    "# suppose you have a loan that starts at 45,832 and the interest rate is 2.75\n",
    "# here is an example of calculating loans and interest rates with a while loop\n",
    "i = 45832\n",
    "y = 0\n",
    "while i > 0:\n",
    "    i = i*1.0275\n",
    "    y += 1\n",
    "    if y > 15:\n",
    "        break\n",
    "print('loan after 15 years of interest', round(i,2))\n",
    "\n",
    "#note this assumes that you are not paying it off every month.\n",
    "#This is the cost of loan without payments\n",
    "# For an exercise, write a while loop that \n",
    "#includes monthly payments of $300 (annual payment of 12*300)\n",
    "\n",
    "#If I didn't use the break function, this loop would be indefinite because i is always greater than 0 in this loop."
   ]
  },
  {
   "cell_type": "markdown",
   "metadata": {},
   "source": [
    "# Numpy"
   ]
  },
  {
   "cell_type": "code",
   "execution_count": 6,
   "metadata": {},
   "outputs": [],
   "source": [
    "import numpy as np\n",
    "#I'm calling the book numpy from my library to use in this notebook"
   ]
  },
  {
   "cell_type": "markdown",
   "metadata": {},
   "source": [
    "Numpy is a package that works with multi-dimesnional arrays to apply mathematical functions and statistics. It does more than this, but that's what we're interested in for this class.\n",
    "\n",
    "Arrays are similar to lists - they contain elements. However, arrays are much more efficient. This is VERY important when dealing with large data. \n",
    "\n",
    "Why Numpy instead of lists?\n",
    "- It's faster\n",
    "- Stores less memory\n",
    "- Has integrated statistics and function"
   ]
  },
  {
   "cell_type": "markdown",
   "metadata": {},
   "source": [
    "Arrays can have n dimensions. In lists, mathematical operators operate element by element, but in arrays and matrices can use the rules of linear algebra (but also element by element). \n",
    "\n",
    "We won't get into it, but linear algebra is SUPER helpful in econometrics and computer science. A great place to start is the essence of [linear algebra youtube series](https://www.youtube.com/playlist?list=PLZHQObOWTQDPD3MizzM2xVFitgF8hE_ab) by 3blue1brown\n",
    "\n",
    "Yes, it's math, but it's not as scary as it seems!\n",
    "\n",
    "It's also a gateway to learning how to work with data in pandas (That's where the real fun begins)!"
   ]
  },
  {
   "cell_type": "code",
   "execution_count": 7,
   "metadata": {},
   "outputs": [
    {
     "data": {
      "text/plain": [
       "array(1)"
      ]
     },
     "execution_count": 7,
     "metadata": {},
     "output_type": "execute_result"
    }
   ],
   "source": [
    "# 0 dimensional arrays\n",
    "np.array(1)"
   ]
  },
  {
   "cell_type": "code",
   "execution_count": 8,
   "metadata": {},
   "outputs": [
    {
     "data": {
      "text/plain": [
       "array([ 1,  4,  3,  5,  8, 19])"
      ]
     },
     "execution_count": 8,
     "metadata": {},
     "output_type": "execute_result"
    }
   ],
   "source": [
    "# One dimensional arrays\n",
    "d_1 = np.array([1,4,3,5,8,19])\n",
    "d_1"
   ]
  },
  {
   "cell_type": "code",
   "execution_count": 9,
   "metadata": {},
   "outputs": [
    {
     "data": {
      "text/plain": [
       "array([[1, 4, 5],\n",
       "       [3, 5, 6],\n",
       "       [3, 5, 6],\n",
       "       [3, 5, 6]])"
      ]
     },
     "execution_count": 9,
     "metadata": {},
     "output_type": "execute_result"
    }
   ],
   "source": [
    "# 2 dimensional arrays\n",
    "d_2 = np.array([[1,4,5],[3,5,6],[3,5,6],[3,5,6]])\n",
    "d_2"
   ]
  },
  {
   "cell_type": "code",
   "execution_count": 10,
   "metadata": {},
   "outputs": [
    {
     "data": {
      "text/plain": [
       "array([[[1, 2],\n",
       "        [3, 6]],\n",
       "\n",
       "       [[1, 6],\n",
       "        [9, 8]]])"
      ]
     },
     "execution_count": 10,
     "metadata": {},
     "output_type": "execute_result"
    }
   ],
   "source": [
    "# 3 dimensional arrays\n",
    "d_3 = np.array([[[1, 2], [3, 6]], [[1, 6], [9, 8]]])\n",
    "d_3\n",
    "# <-  the square brackets are very important to determine the dimension"
   ]
  },
  {
   "cell_type": "markdown",
   "metadata": {},
   "source": [
    "#### Remember that the format of shape is: (N rows, N columns)"
   ]
  },
  {
   "cell_type": "code",
   "execution_count": 11,
   "metadata": {},
   "outputs": [
    {
     "name": "stdout",
     "output_type": "stream",
     "text": [
      "2\n",
      "4\n",
      "(4, 3)\n"
     ]
    }
   ],
   "source": [
    "print(d_2.ndim) # The number of dimensions\n",
    "print(len(d_2)) # number of elements in each dimension\n",
    "print(d_2.shape) # the shape of the array (N rows, N columns)"
   ]
  },
  {
   "cell_type": "code",
   "execution_count": 12,
   "metadata": {},
   "outputs": [
    {
     "name": "stdout",
     "output_type": "stream",
     "text": [
      "(2, 3)\n"
     ]
    }
   ],
   "source": [
    "d_2 = np.array([[-2,5,6],[5,2,7]])\n",
    "print(d_2.shape)"
   ]
  },
  {
   "cell_type": "markdown",
   "metadata": {},
   "source": [
    "Shape is the matrix size. Recall long ago in a world of math where matrixes look like:\n",
    "<img src =\"matrix.png\">"
   ]
  },
  {
   "cell_type": "code",
   "execution_count": 13,
   "metadata": {},
   "outputs": [
    {
     "data": {
      "text/plain": [
       "matrix([[-2,  5,  6],\n",
       "        [ 5,  2,  7]])"
      ]
     },
     "execution_count": 13,
     "metadata": {},
     "output_type": "execute_result"
    }
   ],
   "source": [
    "# You can turn arrays into matrices as long as it has 2 dimensions\n",
    "matrix = np.matrix(d_2)\n",
    "matrix"
   ]
  },
  {
   "cell_type": "markdown",
   "metadata": {},
   "source": [
    "### Example\n",
    "\n",
    "Let's take an example of things that numpy can do for you."
   ]
  },
  {
   "cell_type": "code",
   "execution_count": 14,
   "metadata": {},
   "outputs": [],
   "source": [
    "#let's go back to the interest loan code and create a list of numbers\n",
    "i = 45832\n",
    "y = 0\n",
    "loan = []\n",
    "while i > 0:\n",
    "    i = i*1.0275\n",
    "    y += 1\n",
    "    loan.append(round(i,2))\n",
    "    if y > 15:\n",
    "        break"
   ]
  },
  {
   "cell_type": "code",
   "execution_count": 15,
   "metadata": {},
   "outputs": [
    {
     "data": {
      "text/plain": [
       "[47092.38,\n",
       " 48387.42,\n",
       " 49718.07,\n",
       " 51085.32,\n",
       " 52490.17,\n",
       " 53933.65,\n",
       " 55416.82,\n",
       " 56940.79,\n",
       " 58506.66,\n",
       " 60115.59,\n",
       " 61768.77,\n",
       " 63467.41,\n",
       " 65212.76,\n",
       " 67006.11,\n",
       " 68848.78,\n",
       " 70742.12]"
      ]
     },
     "execution_count": 15,
     "metadata": {},
     "output_type": "execute_result"
    }
   ],
   "source": [
    "loan"
   ]
  },
  {
   "cell_type": "code",
   "execution_count": 16,
   "metadata": {},
   "outputs": [],
   "source": [
    "# we can assign a new variable that creates an array from a list\n",
    "loan_array = np.array(loan)"
   ]
  },
  {
   "cell_type": "code",
   "execution_count": 17,
   "metadata": {},
   "outputs": [
    {
     "data": {
      "text/plain": [
       "array([47092.38, 48387.42, 49718.07, 51085.32, 52490.17, 53933.65,\n",
       "       55416.82, 56940.79, 58506.66, 60115.59, 61768.77, 63467.41,\n",
       "       65212.76, 67006.11, 68848.78, 70742.12])"
      ]
     },
     "execution_count": 17,
     "metadata": {},
     "output_type": "execute_result"
    }
   ],
   "source": [
    "loan_array"
   ]
  },
  {
   "cell_type": "markdown",
   "metadata": {},
   "source": [
    "Imagine I want to know the total cost of the loan that includes fees, and I have a list of fees for years 1-15, but they are all different rates. You can use numpy to multiply the two arrays together."
   ]
  },
  {
   "cell_type": "code",
   "execution_count": 18,
   "metadata": {},
   "outputs": [
    {
     "data": {
      "text/plain": [
       "array([1.002, 1.002, 1.003, 1.003, 1.004, 1.005, 1.006, 1.005, 1.   ,\n",
       "       1.004, 1.001, 1.   , 1.002, 1.003, 1.003, 1.002])"
      ]
     },
     "execution_count": 18,
     "metadata": {},
     "output_type": "execute_result"
    }
   ],
   "source": [
    "fees = [1.002,1.002,1.003,1.003,1.004,1.005,1.006,1.005,1,1.004,1.001,1.00,1.002,1.003,1.003,1.002]\n",
    "fees = np.array(fees)\n",
    "fees"
   ]
  },
  {
   "cell_type": "code",
   "execution_count": 19,
   "metadata": {},
   "outputs": [
    {
     "name": "stdout",
     "output_type": "stream",
     "text": [
      "16 16\n",
      "1 1\n"
     ]
    }
   ],
   "source": [
    "#let's check that both of the arrays are the same dimension and length\n",
    "print(len(fees),len(loan_array))\n",
    "print(fees.ndim,loan_array.ndim)"
   ]
  },
  {
   "cell_type": "code",
   "execution_count": 20,
   "metadata": {},
   "outputs": [
    {
     "data": {
      "text/plain": [
       "array([47186.56476, 48484.19484, 49867.22421, 51238.57596, 52700.13068,\n",
       "       54203.31825, 55749.32092, 57225.49395, 58506.66   , 60356.05236,\n",
       "       61830.53877, 63467.41   , 65343.18552, 67207.12833, 69055.32634,\n",
       "       70883.60424])"
      ]
     },
     "execution_count": 20,
     "metadata": {},
     "output_type": "execute_result"
    }
   ],
   "source": [
    "fees*loan_array"
   ]
  },
  {
   "cell_type": "code",
   "execution_count": 21,
   "metadata": {},
   "outputs": [
    {
     "data": {
      "text/plain": [
       "array([47186.56, 48484.19, 49867.22, 51238.58, 52700.13, 54203.32,\n",
       "       55749.32, 57225.49, 58506.66, 60356.05, 61830.54, 63467.41,\n",
       "       65343.19, 67207.13, 69055.33, 70883.6 ])"
      ]
     },
     "execution_count": 21,
     "metadata": {},
     "output_type": "execute_result"
    }
   ],
   "source": [
    "#see that I have to call np to use the round function when dealing with arrays\n",
    "total_loan_cost = np.round(fees*loan_array,2)\n",
    "total_loan_cost"
   ]
  },
  {
   "cell_type": "code",
   "execution_count": 22,
   "metadata": {},
   "outputs": [
    {
     "data": {
      "text/plain": [
       "array([47186.56, 48484.19, 49867.22, 51238.58, 52700.13, 54203.32,\n",
       "       55749.32, 57225.49, 58506.66, 60356.05, 61830.54, 63467.41,\n",
       "       65343.19, 67207.13, 69055.33, 70883.6 ])"
      ]
     },
     "execution_count": 22,
     "metadata": {},
     "output_type": "execute_result"
    }
   ],
   "source": [
    "total_loan_cost"
   ]
  },
  {
   "cell_type": "markdown",
   "metadata": {},
   "source": [
    "Numpy calculates basic operations element by element, but it will do linear algebra and calculate operations with linear algebra when told. This is partly what makes it super fast.\n",
    "\n",
    "<img src=\"https://media.giphy.com/media/2tVKdyhY1v7oY/giphy.gif\">\n"
   ]
  },
  {
   "cell_type": "markdown",
   "metadata": {},
   "source": [
    "Anything you can do with linear algebra, you can do with numpy:\n",
    "   - cross product\n",
    "   - transpose\n",
    "   - dot products\n",
    "   - inverse\n",
    "   - eigenvalues\n",
    "   - identity\n",
    "   - etc. \n",
    "   \n",
    "  I won't go over this, but it's handy to know. Econometrics uses linear algebra intensively, so for those taking that course next semester - refresh your linear algebra for next semester to make your life easier.\n",
    "  "
   ]
  },
  {
   "cell_type": "code",
   "execution_count": 23,
   "metadata": {},
   "outputs": [],
   "source": [
    "#Let's say you have multiple loans with varying fee schedules\n",
    "#let's go back to the interest loan code and create a list of numbers\n",
    "\n",
    "i = 35800\n",
    "y = 0\n",
    "loan_2 = []\n",
    "\n",
    "while i > 0:\n",
    "    i = i*1.0375\n",
    "    y += 1\n",
    "    loan_2.append(round(i,2))\n",
    "    if y > 15:\n",
    "        break"
   ]
  },
  {
   "cell_type": "code",
   "execution_count": 24,
   "metadata": {},
   "outputs": [],
   "source": [
    "#We can create a matrix out of that information\n",
    "all_loans = np.matrix([loan,loan_2])"
   ]
  },
  {
   "cell_type": "code",
   "execution_count": 25,
   "metadata": {},
   "outputs": [
    {
     "data": {
      "text/plain": [
       "matrix([[47092.38, 48387.42, 49718.07, 51085.32, 52490.17, 53933.65,\n",
       "         55416.82, 56940.79, 58506.66, 60115.59, 61768.77, 63467.41,\n",
       "         65212.76, 67006.11, 68848.78, 70742.12],\n",
       "        [37142.5 , 38535.34, 39980.42, 41479.68, 43035.17, 44648.99,\n",
       "         46323.33, 48060.45, 49862.72, 51732.57, 53672.54, 55685.27,\n",
       "         57773.46, 59939.97, 62187.72, 64519.76]])"
      ]
     },
     "execution_count": 25,
     "metadata": {},
     "output_type": "execute_result"
    }
   ],
   "source": [
    "all_loans"
   ]
  },
  {
   "cell_type": "code",
   "execution_count": 26,
   "metadata": {},
   "outputs": [
    {
     "data": {
      "text/plain": [
       "matrix([[47092.38, 48387.42],\n",
       "        [49718.07, 51085.32],\n",
       "        [52490.17, 53933.65],\n",
       "        [55416.82, 56940.79],\n",
       "        [58506.66, 60115.59],\n",
       "        [61768.77, 63467.41],\n",
       "        [65212.76, 67006.11],\n",
       "        [68848.78, 70742.12],\n",
       "        [37142.5 , 38535.34],\n",
       "        [39980.42, 41479.68],\n",
       "        [43035.17, 44648.99],\n",
       "        [46323.33, 48060.45],\n",
       "        [49862.72, 51732.57],\n",
       "        [53672.54, 55685.27],\n",
       "        [57773.46, 59939.97],\n",
       "        [62187.72, 64519.76]])"
      ]
     },
     "execution_count": 26,
     "metadata": {},
     "output_type": "execute_result"
    }
   ],
   "source": [
    "# I can change the columns and rows with reshape to the specific shape I want\n",
    "np.reshape(all_loans,(16,2))"
   ]
  },
  {
   "cell_type": "code",
   "execution_count": 27,
   "metadata": {},
   "outputs": [
    {
     "data": {
      "text/plain": [
       "matrix([[47092.38, 37142.5 ],\n",
       "        [48387.42, 38535.34],\n",
       "        [49718.07, 39980.42],\n",
       "        [51085.32, 41479.68],\n",
       "        [52490.17, 43035.17],\n",
       "        [53933.65, 44648.99],\n",
       "        [55416.82, 46323.33],\n",
       "        [56940.79, 48060.45],\n",
       "        [58506.66, 49862.72],\n",
       "        [60115.59, 51732.57],\n",
       "        [61768.77, 53672.54],\n",
       "        [63467.41, 55685.27],\n",
       "        [65212.76, 57773.46],\n",
       "        [67006.11, 59939.97],\n",
       "        [68848.78, 62187.72],\n",
       "        [70742.12, 64519.76]])"
      ]
     },
     "execution_count": 27,
     "metadata": {},
     "output_type": "execute_result"
    }
   ],
   "source": [
    "# transpose is also useful\n",
    "all_loans = np.transpose(all_loans)\n",
    "all_loans"
   ]
  },
  {
   "cell_type": "markdown",
   "metadata": {},
   "source": [
    "Matrices is another way to store data\n",
    "\n",
    "They are very similar frameworks that you see when opening a csv file of data\n",
    "\n",
    "Matrices in numpy can only deal with numbers, but as you can see the framework is very similar\n",
    "\n",
    "<img src='dataframe.jpg'>"
   ]
  },
  {
   "cell_type": "code",
   "execution_count": 28,
   "metadata": {},
   "outputs": [],
   "source": [
    "all_loans_2 = all_loans"
   ]
  },
  {
   "cell_type": "markdown",
   "metadata": {},
   "source": [
    "### Slicing"
   ]
  },
  {
   "cell_type": "markdown",
   "metadata": {},
   "source": [
    "You can also access any element in an array or matrix like you would by slicing (remember that from earlier lectures?)\n",
    "\n",
    "Slicing works in the same way where negative numbers go from the end."
   ]
  },
  {
   "cell_type": "code",
   "execution_count": 29,
   "metadata": {},
   "outputs": [
    {
     "data": {
      "text/plain": [
       "array([47186.56, 48484.19, 49867.22, 51238.58, 52700.13, 54203.32,\n",
       "       55749.32, 57225.49, 58506.66, 60356.05, 61830.54, 63467.41,\n",
       "       65343.19, 67207.13, 69055.33, 70883.6 ])"
      ]
     },
     "execution_count": 29,
     "metadata": {},
     "output_type": "execute_result"
    }
   ],
   "source": [
    "#1-d array\n",
    "total_loan_cost"
   ]
  },
  {
   "cell_type": "code",
   "execution_count": 30,
   "metadata": {},
   "outputs": [
    {
     "name": "stdout",
     "output_type": "stream",
     "text": [
      "54203.32\n"
     ]
    },
    {
     "data": {
      "text/plain": [
       "array([69055.33, 70883.6 ])"
      ]
     },
     "execution_count": 30,
     "metadata": {},
     "output_type": "execute_result"
    }
   ],
   "source": [
    "print(total_loan_cost[5])\n",
    "total_loan_cost[14:]"
   ]
  },
  {
   "cell_type": "code",
   "execution_count": 31,
   "metadata": {},
   "outputs": [
    {
     "data": {
      "text/plain": [
       "matrix([[47092.38, 37142.5 ],\n",
       "        [48387.42, 38535.34],\n",
       "        [49718.07, 39980.42],\n",
       "        [51085.32, 41479.68],\n",
       "        [52490.17, 43035.17],\n",
       "        [53933.65, 44648.99],\n",
       "        [55416.82, 46323.33],\n",
       "        [56940.79, 48060.45],\n",
       "        [58506.66, 49862.72],\n",
       "        [60115.59, 51732.57],\n",
       "        [61768.77, 53672.54],\n",
       "        [63467.41, 55685.27],\n",
       "        [65212.76, 57773.46],\n",
       "        [67006.11, 59939.97],\n",
       "        [68848.78, 62187.72],\n",
       "        [70742.12, 64519.76]])"
      ]
     },
     "execution_count": 31,
     "metadata": {},
     "output_type": "execute_result"
    }
   ],
   "source": [
    "# Matrix (recall that we created a matrix earlier)\n",
    "all_loans"
   ]
  },
  {
   "cell_type": "code",
   "execution_count": 32,
   "metadata": {},
   "outputs": [
    {
     "data": {
      "text/plain": [
       "matrix([[47092.38, 37142.5 ]])"
      ]
     },
     "execution_count": 32,
     "metadata": {},
     "output_type": "execute_result"
    }
   ],
   "source": [
    "# so, if we want the first row we can call it:\n",
    "all_loans[0]"
   ]
  },
  {
   "cell_type": "markdown",
   "metadata": {},
   "source": [
    "Remember from Algebra the matrix locations:\n",
    "    \n",
    "<img src = \"matrix_location.png\" width = 400>\n",
    "\n",
    "This works in the same way for index slicing in python (but with 0 indexing)"
   ]
  },
  {
   "cell_type": "code",
   "execution_count": 33,
   "metadata": {},
   "outputs": [
    {
     "data": {
      "text/plain": [
       "matrix([[47092.38],\n",
       "        [48387.42],\n",
       "        [49718.07],\n",
       "        [51085.32],\n",
       "        [52490.17],\n",
       "        [53933.65],\n",
       "        [55416.82],\n",
       "        [56940.79],\n",
       "        [58506.66],\n",
       "        [60115.59],\n",
       "        [61768.77],\n",
       "        [63467.41],\n",
       "        [65212.76],\n",
       "        [67006.11],\n",
       "        [68848.78],\n",
       "        [70742.12]])"
      ]
     },
     "execution_count": 33,
     "metadata": {},
     "output_type": "execute_result"
    }
   ],
   "source": [
    "# If we want the first column\n",
    "all_loans[:,0]\n",
    "# This says, show me all of the rows of the first column."
   ]
  },
  {
   "cell_type": "markdown",
   "metadata": {},
   "source": [
    "The colon `:` is important to understand. The colon asks for information *until* a certain point"
   ]
  },
  {
   "cell_type": "code",
   "execution_count": 34,
   "metadata": {},
   "outputs": [
    {
     "data": {
      "text/plain": [
       "matrix([[47092.38],\n",
       "        [48387.42],\n",
       "        [49718.07],\n",
       "        [51085.32],\n",
       "        [52490.17]])"
      ]
     },
     "execution_count": 34,
     "metadata": {},
     "output_type": "execute_result"
    }
   ],
   "source": [
    "# For example:\n",
    "# If we want the first column with rows 1 through 4\n",
    "all_loans[0:5,0]\n",
    "# Here, it will print rows 1 through 5 or, in other words, indexed items at 0 UNTIL 5 (indexed item 1 through 4)"
   ]
  },
  {
   "cell_type": "markdown",
   "metadata": {},
   "source": [
    "Go back to the above diagram and connect the locations in our all_loans matrix with the diagram\n",
    "\n",
    "<img src= \"slicing_example.png\">"
   ]
  },
  {
   "cell_type": "code",
   "execution_count": 35,
   "metadata": {},
   "outputs": [
    {
     "data": {
      "text/plain": [
       "matrix([[37142.5 ],\n",
       "        [38535.34],\n",
       "        [39980.42]])"
      ]
     },
     "execution_count": 35,
     "metadata": {},
     "output_type": "execute_result"
    }
   ],
   "source": [
    "#How do we get the second column with rows 1 through 3?\n",
    "all_loans[0:3,1]"
   ]
  },
  {
   "cell_type": "code",
   "execution_count": 36,
   "metadata": {},
   "outputs": [
    {
     "data": {
      "text/plain": [
       "matrix([[52490.17],\n",
       "        [53933.65]])"
      ]
     },
     "execution_count": 36,
     "metadata": {},
     "output_type": "execute_result"
    }
   ],
   "source": [
    "#rows 5 and 6 for the first columm\n",
    "all_loans[4:6,0]"
   ]
  },
  {
   "cell_type": "markdown",
   "metadata": {},
   "source": [
    "Understanding this will help you access particular data rows or columns or sections within any numpy or pandas (will get to it soon)\n",
    "\n",
    "Another useful visual from P4DS\n",
    "\n",
    "<img src = \"matrix_slicing_diagram.png\" >"
   ]
  },
  {
   "cell_type": "markdown",
   "metadata": {},
   "source": [
    "## Filtering\n",
    "\n",
    "You can use boolean functions to filter data or even replace data in arrays/matrices. You will be using this a lot to filter data when we get to pandas.\n",
    "\n",
    "Remember those boolean functions we talked about last lecture? You'll use them a lot for filtering. \n",
    "\n",
    "To filter the syntax is always the assigned variable with hard brackets and then the boolean function related to the particular assigned variable:\n",
    "\n",
    "`variable[variable >= N]`\n",
    "\n",
    "If you are using more than one boolean function, you need to separate the boolean requests with tuples:\n",
    "\n",
    "`variable[(variable >= N) & (variable < N)]`"
   ]
  },
  {
   "cell_type": "code",
   "execution_count": 37,
   "metadata": {},
   "outputs": [
    {
     "data": {
      "text/plain": [
       "matrix([[47092.38, 37142.5 ],\n",
       "        [48387.42, 38535.34],\n",
       "        [49718.07, 39980.42],\n",
       "        [51085.32, 41479.68],\n",
       "        [52490.17, 43035.17],\n",
       "        [53933.65, 44648.99],\n",
       "        [55416.82, 46323.33],\n",
       "        [56940.79, 48060.45],\n",
       "        [58506.66, 49862.72],\n",
       "        [60115.59, 51732.57],\n",
       "        [61768.77, 53672.54],\n",
       "        [63467.41, 55685.27],\n",
       "        [65212.76, 57773.46],\n",
       "        [67006.11, 59939.97],\n",
       "        [68848.78, 62187.72],\n",
       "        [70742.12, 64519.76]])"
      ]
     },
     "execution_count": 37,
     "metadata": {},
     "output_type": "execute_result"
    }
   ],
   "source": [
    "all_loans"
   ]
  },
  {
   "cell_type": "code",
   "execution_count": 42,
   "metadata": {},
   "outputs": [
    {
     "data": {
      "text/plain": [
       "matrix([[65212.76, 67006.11, 68848.78, 70742.12]])"
      ]
     },
     "execution_count": 42,
     "metadata": {},
     "output_type": "execute_result"
    }
   ],
   "source": [
    "all_loans[(all_loans > 65000)]"
   ]
  },
  {
   "cell_type": "code",
   "execution_count": 43,
   "metadata": {},
   "outputs": [
    {
     "data": {
      "text/plain": [
       "matrix([[37142.5 , 38535.34, 39980.42]])"
      ]
     },
     "execution_count": 43,
     "metadata": {},
     "output_type": "execute_result"
    }
   ],
   "source": [
    "all_loans[(all_loans < 40000)]"
   ]
  },
  {
   "cell_type": "code",
   "execution_count": 57,
   "metadata": {},
   "outputs": [
    {
     "data": {
      "text/plain": [
       "matrix([[65212.76]])"
      ]
     },
     "execution_count": 57,
     "metadata": {},
     "output_type": "execute_result"
    }
   ],
   "source": [
    "all_loans[(all_loans >65000) & (all_loans <67000)]"
   ]
  },
  {
   "cell_type": "code",
   "execution_count": 45,
   "metadata": {},
   "outputs": [
    {
     "data": {
      "text/plain": [
       "matrix([[65212.76]])"
      ]
     },
     "execution_count": 45,
     "metadata": {},
     "output_type": "execute_result"
    }
   ],
   "source": [
    "all_loans[(all_loans==65212.76)]"
   ]
  },
  {
   "cell_type": "markdown",
   "metadata": {},
   "source": [
    "\n",
    "np.nan is to mark something as \"missing\" in python\n",
    "\n",
    "When you see `NaN` that means a value is missing\n",
    "\n",
    "You can search if something is missing by looking for np.nan\n",
    "\n",
    "In addition, sometimes you will get `Inf` which means the value is infinite - this can happen often\n",
    "\n",
    "You'll want to learn how to search for these values often - usually to clean data "
   ]
  },
  {
   "cell_type": "code",
   "execution_count": 46,
   "metadata": {},
   "outputs": [],
   "source": [
    "# We can use these additional conditionals to replace values in the matrix\n",
    "# that meet the true condition\n",
    "all_loans[(all_loans >65000)& (all_loans <67000)] = np.nan\n",
    "all_loans[(all_loans <38000)] = np.inf"
   ]
  },
  {
   "cell_type": "code",
   "execution_count": 47,
   "metadata": {},
   "outputs": [
    {
     "data": {
      "text/plain": [
       "matrix([[47092.38,      inf],\n",
       "        [48387.42, 38535.34],\n",
       "        [49718.07, 39980.42],\n",
       "        [51085.32, 41479.68],\n",
       "        [52490.17, 43035.17],\n",
       "        [53933.65, 44648.99],\n",
       "        [55416.82, 46323.33],\n",
       "        [56940.79, 48060.45],\n",
       "        [58506.66, 49862.72],\n",
       "        [60115.59, 51732.57],\n",
       "        [61768.77, 53672.54],\n",
       "        [63467.41, 55685.27],\n",
       "        [     nan, 57773.46],\n",
       "        [67006.11, 59939.97],\n",
       "        [68848.78, 62187.72],\n",
       "        [70742.12, 64519.76]])"
      ]
     },
     "execution_count": 47,
     "metadata": {},
     "output_type": "execute_result"
    }
   ],
   "source": [
    "all_loans"
   ]
  },
  {
   "cell_type": "markdown",
   "metadata": {},
   "source": [
    "## Remember np.isnan()  and np.isinf() functions - you will use this OFTEN\n",
    "\n",
    "\n",
    "<img src =\"https://media.giphy.com/media/xT5LMwEYkU01OIa46c/giphy.gif\" width = 250>"
   ]
  },
  {
   "cell_type": "code",
   "execution_count": 48,
   "metadata": {},
   "outputs": [
    {
     "data": {
      "text/plain": [
       "matrix([[nan]])"
      ]
     },
     "execution_count": 48,
     "metadata": {},
     "output_type": "execute_result"
    }
   ],
   "source": [
    "#let's search for these values\n",
    "all_loans[np.isnan(all_loans)]"
   ]
  },
  {
   "cell_type": "code",
   "execution_count": 50,
   "metadata": {},
   "outputs": [
    {
     "data": {
      "text/plain": [
       "matrix([[False, False],\n",
       "        [False, False],\n",
       "        [False, False],\n",
       "        [False, False],\n",
       "        [False, False],\n",
       "        [False, False],\n",
       "        [False, False],\n",
       "        [False, False],\n",
       "        [False, False],\n",
       "        [False, False],\n",
       "        [False, False],\n",
       "        [False, False],\n",
       "        [ True, False],\n",
       "        [False, False],\n",
       "        [False, False],\n",
       "        [False, False]])"
      ]
     },
     "execution_count": 50,
     "metadata": {},
     "output_type": "execute_result"
    }
   ],
   "source": [
    "#we can also filter for only true values from the matrix \n",
    "# that are nan by creating a list of all values that are True\n",
    "np.isnan(all_loans)"
   ]
  },
  {
   "cell_type": "code",
   "execution_count": 63,
   "metadata": {},
   "outputs": [
    {
     "data": {
      "text/plain": [
       "matrix([[47092.38,      inf, 48387.42, 38535.34, 49718.07, 39980.42,\n",
       "         51085.32, 41479.68, 52490.17, 43035.17, 53933.65, 44648.99,\n",
       "         55416.82, 46323.33, 56940.79, 48060.45, 58506.66, 49862.72,\n",
       "         60115.59, 51732.57, 61768.77, 53672.54, 63467.41, 55685.27,\n",
       "         57773.46, 67006.11, 59939.97, 68848.78, 62187.72, 70742.12,\n",
       "         64519.76]])"
      ]
     },
     "execution_count": 63,
     "metadata": {},
     "output_type": "execute_result"
    }
   ],
   "source": [
    "# Here you can search for a boolean in the matrix to exclude anythign that is a nan\n",
    "# -> You MUST do the tilda to look exclude nan\n",
    "# It's kind of like an exclusion boolean. Show me everything but what I asked for.\n",
    "all_loans[~np.isnan(all_loans)]"
   ]
  },
  {
   "cell_type": "code",
   "execution_count": 54,
   "metadata": {},
   "outputs": [
    {
     "data": {
      "text/plain": [
       "matrix([[47092.38, 48387.42, 38535.34, 49718.07, 39980.42, 51085.32,\n",
       "         41479.68, 52490.17, 43035.17, 53933.65, 44648.99, 55416.82,\n",
       "         46323.33, 56940.79, 48060.45, 58506.66, 49862.72, 60115.59,\n",
       "         51732.57, 61768.77, 53672.54, 63467.41, 55685.27, 57773.46,\n",
       "         67006.11, 59939.97, 68848.78, 62187.72, 70742.12, 64519.76]])"
      ]
     },
     "execution_count": 54,
     "metadata": {},
     "output_type": "execute_result"
    }
   ],
   "source": [
    "all_loans[~np.isinf(all_loans) & ~np.isnan(all_loans)]"
   ]
  },
  {
   "cell_type": "markdown",
   "metadata": {},
   "source": [
    "### Python Byte Moment\n",
    "\n",
    "Another great thing about python coding is that you can tack on functions in one line of code.\n",
    "\n",
    "The order of a function is always done by taking the first from the left onwards."
   ]
  },
  {
   "cell_type": "code",
   "execution_count": 55,
   "metadata": {},
   "outputs": [
    {
     "data": {
      "text/plain": [
       "2"
      ]
     },
     "execution_count": 55,
     "metadata": {},
     "output_type": "execute_result"
    }
   ],
   "source": [
    "# here is an example that I create an array and then I ask it to tell me the dimension of the array\n",
    "#python will output the last function you ask it to, but it will also calculate everythign prior\n",
    "x = np.array([[1,4],[3,5]]).ndim\n"
   ]
  },
  {
   "cell_type": "code",
   "execution_count": 66,
   "metadata": {},
   "outputs": [
    {
     "data": {
      "text/plain": [
       "2"
      ]
     },
     "execution_count": 66,
     "metadata": {},
     "output_type": "execute_result"
    }
   ],
   "source": [
    "#otherwise, you would have to assign it and then tell it what to do next in order\n",
    "x = np.array([[1,4],[3,5]])\n",
    "x.ndim"
   ]
  },
  {
   "cell_type": "code",
   "execution_count": 67,
   "metadata": {},
   "outputs": [
    {
     "data": {
      "text/plain": [
       "2"
      ]
     },
     "execution_count": 67,
     "metadata": {},
     "output_type": "execute_result"
    }
   ],
   "source": [
    "x = np.array([[1,4],[3,5]]).ndim\n",
    "x"
   ]
  },
  {
   "cell_type": "markdown",
   "metadata": {},
   "source": [
    "\n",
    "By tacking on functions, it saves memory, so that you don't have to save every step that you do in your code and it will output the last function you really need to save. \n",
    "\n",
    "It is cumulative - this will be VERY handy in pandas (and generally)"
   ]
  },
  {
   "cell_type": "code",
   "execution_count": 68,
   "metadata": {},
   "outputs": [],
   "source": [
    "x_list =[34,62,35,647,45,29,68,3,55]\n",
    "x_list = np.array(x_list)"
   ]
  },
  {
   "cell_type": "code",
   "execution_count": 69,
   "metadata": {},
   "outputs": [],
   "source": [
    "# The above is the same as the code below\n",
    "x_list = np.array([34,62,35,647,45,29,68,3,55])"
   ]
  },
  {
   "cell_type": "markdown",
   "metadata": {},
   "source": [
    "## Useful Functions in Numpy\n",
    "\n",
    "Where you will combine numpy and pandas is calculating statistics or math. \n",
    "\n",
    "It is very fast, efficient, and pandas doesn't have all of the math functions that numpy has. I'll go over the main functions you will likely use - but, you may have to use a funciton I never went over and learn how to use it on your own (including in assignments). \n",
    "\n",
    "Coding is learning how to apply new functions that you never new about before to a particular puzzle or step you want to do. It's a combination of logical thinking and creativity. \n",
    "\n",
    "I'll include snapshots from the P4DS book for your reference that are helpful to refer to - the book can explain the difference in the operations computationally, but for our purposes, it's not really necessary to understand the backend."
   ]
  },
  {
   "cell_type": "markdown",
   "metadata": {},
   "source": [
    "### Some Useful Functions\n",
    "\n",
    "For an array or a matrix - it will perform the operation element by element"
   ]
  },
  {
   "cell_type": "code",
   "execution_count": 70,
   "metadata": {},
   "outputs": [
    {
     "data": {
      "text/plain": [
       "array([217.00778788, 219.97140723, 222.97549193, 226.02061853,\n",
       "       229.10733292, 232.23619442, 235.40777387, 238.62269381,\n",
       "       241.88149991, 245.18480785, 248.53323721, 251.92739033,\n",
       "       255.36789148, 258.85538434, 262.3905105 , 265.97390849])"
      ]
     },
     "execution_count": 70,
     "metadata": {},
     "output_type": "execute_result"
    }
   ],
   "source": [
    "#square root\n",
    "np.sqrt(loan)"
   ]
  },
  {
   "cell_type": "code",
   "execution_count": 71,
   "metadata": {},
   "outputs": [
    {
     "data": {
      "text/plain": [
       "array([2.21769225e+09, 2.34134241e+09, 2.47188648e+09, 2.60970992e+09,\n",
       "       2.75521795e+09, 2.90883860e+09, 3.07102394e+09, 3.24225357e+09,\n",
       "       3.42302926e+09, 3.61388416e+09, 3.81538095e+09, 4.02811213e+09,\n",
       "       4.25270407e+09, 4.48981878e+09, 4.74015451e+09, 5.00444754e+09])"
      ]
     },
     "execution_count": 71,
     "metadata": {},
     "output_type": "execute_result"
    }
   ],
   "source": [
    "np.square(loan)"
   ]
  },
  {
   "cell_type": "code",
   "execution_count": 72,
   "metadata": {},
   "outputs": [
    {
     "data": {
      "text/plain": [
       "matrix([[2.21769225e+09,            inf],\n",
       "        [2.34134241e+09, 1.48497243e+09],\n",
       "        [2.47188648e+09, 1.59843398e+09],\n",
       "        [2.60970992e+09, 1.72056385e+09],\n",
       "        [2.75521795e+09, 1.85202586e+09],\n",
       "        [2.90883860e+09, 1.99353231e+09],\n",
       "        [3.07102394e+09, 2.14585090e+09],\n",
       "        [3.24225357e+09, 2.30980685e+09],\n",
       "        [3.42302926e+09, 2.48629085e+09],\n",
       "        [3.61388416e+09, 2.67625880e+09],\n",
       "        [3.81538095e+09, 2.88074155e+09],\n",
       "        [4.02811213e+09, 3.10084929e+09],\n",
       "        [           nan, 3.33777268e+09],\n",
       "        [4.48981878e+09, 3.59280000e+09],\n",
       "        [4.74015451e+09, 3.86731252e+09],\n",
       "        [5.00444754e+09, 4.16279943e+09]])"
      ]
     },
     "execution_count": 72,
     "metadata": {},
     "output_type": "execute_result"
    }
   ],
   "source": [
    "#matrix\n",
    "np.square(all_loans_2)"
   ]
  },
  {
   "cell_type": "code",
   "execution_count": 73,
   "metadata": {},
   "outputs": [
    {
     "data": {
      "text/plain": [
       "15.07443104084234"
      ]
     },
     "execution_count": 73,
     "metadata": {},
     "output_type": "execute_result"
    }
   ],
   "source": [
    "#exponential (also for numbers)\n",
    "np.exp(2.713)"
   ]
  },
  {
   "cell_type": "code",
   "execution_count": 74,
   "metadata": {},
   "outputs": [
    {
     "data": {
      "text/plain": [
       "array([1.75907682e+094, 3.40697022e+095, 6.87109168e+096, 1.44380128e+098,\n",
       "       3.16264505e+099, 7.22599632e+100, 1.72304726e+102, 4.29061135e+103,\n",
       "       1.11635080e+105, 3.03675039e+106, 8.64198467e+107, 2.57439665e+109,\n",
       "       8.03278468e+110, 2.62702998e+112, 9.01053989e+113, 3.24340207e+115])"
      ]
     },
     "execution_count": 74,
     "metadata": {},
     "output_type": "execute_result"
    }
   ],
   "source": [
    "# or an array\n",
    "np.exp(np.sqrt(loan))"
   ]
  },
  {
   "cell_type": "code",
   "execution_count": 75,
   "metadata": {},
   "outputs": [
    {
     "data": {
      "text/plain": [
       "array([10.75986648, 10.78699514, 10.81412373, 10.84125246, 10.86838119,\n",
       "       10.89550987, 10.92263844, 10.94976723, 10.97689587, 11.00402449,\n",
       "       11.03115318, 11.05828182, 11.08541043, 11.11253909, 11.13966778,\n",
       "       11.16679643])"
      ]
     },
     "execution_count": 75,
     "metadata": {},
     "output_type": "execute_result"
    }
   ],
   "source": [
    "#What's the base of this?\n",
    "np.log(loan)"
   ]
  },
  {
   "cell_type": "code",
   "execution_count": 76,
   "metadata": {},
   "outputs": [
    {
     "data": {
      "text/plain": [
       "array([4.67295064, 4.68473247, 4.69651426, 4.70829612, 4.72007798,\n",
       "       4.73185981, 4.7436416 , 4.75542349, 4.76720531, 4.77898711,\n",
       "       4.79076895, 4.80255078, 4.81433258, 4.82611441, 4.83789625,\n",
       "       4.84967807])"
      ]
     },
     "execution_count": 76,
     "metadata": {},
     "output_type": "execute_result"
    }
   ],
   "source": [
    "np.log10(loan)"
   ]
  },
  {
   "cell_type": "code",
   "execution_count": 77,
   "metadata": {},
   "outputs": [
    {
     "data": {
      "text/plain": [
       "array([47092.38, 48387.42, 49718.07, 51085.32, 52490.17, 53933.65,\n",
       "       55416.82, 56940.79, 58506.66, 60115.59, 61768.77, 63467.41,\n",
       "       65212.76, 67006.11, 68848.78, 70742.12])"
      ]
     },
     "execution_count": 77,
     "metadata": {},
     "output_type": "execute_result"
    }
   ],
   "source": [
    "# absolute values\n",
    "np.abs(loan)"
   ]
  },
  {
   "cell_type": "code",
   "execution_count": 78,
   "metadata": {},
   "outputs": [
    {
     "data": {
      "text/plain": [
       "array([47092., 48387., 49718., 51085., 52490., 53934., 55417., 56941.,\n",
       "       58507., 60116., 61769., 63467., 65213., 67006., 68849., 70742.])"
      ]
     },
     "execution_count": 78,
     "metadata": {},
     "output_type": "execute_result"
    }
   ],
   "source": [
    "#round to the nearest integer\n",
    "# (particularly useful when cleaning data and need to convert to integer)\n",
    "np.rint(loan)"
   ]
  },
  {
   "cell_type": "markdown",
   "metadata": {},
   "source": [
    "## Basic Statistics"
   ]
  },
  {
   "cell_type": "markdown",
   "metadata": {},
   "source": [
    "<img src =\"basic_statistics.png\">\n"
   ]
  },
  {
   "cell_type": "markdown",
   "metadata": {},
   "source": [
    "## Set Operations"
   ]
  },
  {
   "cell_type": "markdown",
   "metadata": {},
   "source": [
    "<img src =\"setoperations.png\">"
   ]
  },
  {
   "cell_type": "markdown",
   "metadata": {},
   "source": [
    "## Calculations within a Matrix or Array"
   ]
  },
  {
   "cell_type": "code",
   "execution_count": 56,
   "metadata": {},
   "outputs": [],
   "source": [
    "all_loans[0:1,1]= 57773.46\n",
    "all_loans[0,1]= 57773.46\n",
    "all_loans[12:13,0] = 37142.5"
   ]
  },
  {
   "cell_type": "code",
   "execution_count": 57,
   "metadata": {},
   "outputs": [
    {
     "data": {
      "text/plain": [
       "matrix([[47092.38, 57773.46],\n",
       "        [48387.42, 38535.34],\n",
       "        [49718.07, 39980.42],\n",
       "        [51085.32, 41479.68],\n",
       "        [52490.17, 43035.17],\n",
       "        [53933.65, 44648.99],\n",
       "        [55416.82, 46323.33],\n",
       "        [56940.79, 48060.45],\n",
       "        [58506.66, 49862.72],\n",
       "        [60115.59, 51732.57],\n",
       "        [61768.77, 53672.54],\n",
       "        [63467.41, 55685.27],\n",
       "        [37142.5 , 57773.46],\n",
       "        [67006.11, 59939.97],\n",
       "        [68848.78, 62187.72],\n",
       "        [70742.12, 64519.76]])"
      ]
     },
     "execution_count": 57,
     "metadata": {},
     "output_type": "execute_result"
    }
   ],
   "source": [
    "all_loans"
   ]
  },
  {
   "cell_type": "code",
   "execution_count": 81,
   "metadata": {},
   "outputs": [
    {
     "data": {
      "text/plain": [
       "70742.12"
      ]
     },
     "execution_count": 81,
     "metadata": {},
     "output_type": "execute_result"
    }
   ],
   "source": [
    "#minimum value of the entire matrix\n",
    "all_loans.max()"
   ]
  },
  {
   "cell_type": "code",
   "execution_count": 82,
   "metadata": {},
   "outputs": [
    {
     "data": {
      "text/plain": [
       "matrix([[57773.46],\n",
       "        [48387.42],\n",
       "        [49718.07],\n",
       "        [51085.32],\n",
       "        [52490.17],\n",
       "        [53933.65],\n",
       "        [55416.82],\n",
       "        [56940.79],\n",
       "        [58506.66],\n",
       "        [60115.59],\n",
       "        [61768.77],\n",
       "        [63467.41],\n",
       "        [57773.46],\n",
       "        [67006.11],\n",
       "        [68848.78],\n",
       "        [70742.12]])"
      ]
     },
     "execution_count": 82,
     "metadata": {},
     "output_type": "execute_result"
    }
   ],
   "source": [
    "#minimum value for EACH row\n",
    "all_loans.max(axis=1)"
   ]
  },
  {
   "cell_type": "markdown",
   "metadata": {},
   "source": [
    "For nearly all function in numpy, you can tell it to calculate specific aspects of your matrix or array by indicating the axis that it should focus on. \n",
    "\n",
    "`all_loans.min(axis=1)` is saying to find the minimum value for EVERY Row (axis 1)\n",
    "\n",
    "\n",
    "<img src = array_method_axis_1.svg>"
   ]
  },
  {
   "cell_type": "code",
   "execution_count": 58,
   "metadata": {},
   "outputs": [
    {
     "data": {
      "text/plain": [
       "matrix([[70742.12, 64519.76]])"
      ]
     },
     "execution_count": 58,
     "metadata": {},
     "output_type": "execute_result"
    }
   ],
   "source": [
    "#minimum value for EACH column\n",
    "all_loans.max(axis=0)"
   ]
  },
  {
   "cell_type": "markdown",
   "metadata": {},
   "source": [
    "For nearly all function in numpy, you can tell it to calculate specific aspects of your matrix or array by indicating the axis that it should focus on. \n",
    "\n",
    "`all_loans.max(axis=0)` is saying to find the minimum value for EVERY columns (axis 0)\n",
    "\n",
    "\n",
    "<img src = array_method_axis_0.svg>"
   ]
  },
  {
   "cell_type": "markdown",
   "metadata": {},
   "source": [
    "## Random function"
   ]
  },
  {
   "cell_type": "code",
   "execution_count": 59,
   "metadata": {},
   "outputs": [
    {
     "data": {
      "text/plain": [
       "array([[0.07153026, 0.38272841, 0.15929118, 0.15386739, 0.36612462,\n",
       "        0.07659708],\n",
       "       [0.72910239, 0.67728692, 0.56426881, 0.64198302, 0.83270371,\n",
       "        0.94978308],\n",
       "       [0.47946259, 0.86042801, 0.12798201, 0.81867157, 0.3968705 ,\n",
       "        0.32974586],\n",
       "       [0.27793353, 0.09908754, 0.01867237, 0.01409377, 0.87346697,\n",
       "        0.64358728],\n",
       "       [0.82706137, 0.79245278, 0.34904462, 0.27981145, 0.22780573,\n",
       "        0.80096082],\n",
       "       [0.51235294, 0.56479028, 0.65967578, 0.2336195 , 0.29739387,\n",
       "        0.52863792],\n",
       "       [0.71429399, 0.2686261 , 0.29977593, 0.28785362, 0.7006784 ,\n",
       "        0.63929326],\n",
       "       [0.08442532, 0.55738417, 0.72336968, 0.45025929, 0.08118697,\n",
       "        0.50698819]])"
      ]
     },
     "execution_count": 59,
     "metadata": {},
     "output_type": "execute_result"
    }
   ],
   "source": [
    "np.random.rand(8,6)"
   ]
  },
  {
   "cell_type": "markdown",
   "metadata": {},
   "source": [
    "## Definitions\n",
    "\n",
    "Now you have all of the parts of the python language to learn a new and useful tool. Defining Functions! You've used functions in packages, and now you too can build your own function - these are called definitions.\n",
    "\n",
    "These are useful if you have a calculation that you need to run frequently - something that you commonly have to type out that is not pre-packaged in a program.  It'll help you automate tasks quickly and tailor them unique to your situation.\n",
    "\n",
    "A function looks like this \n",
    "\n",
    "`def function_name(required_arg, optional_arg):\n",
    "    Do some code here\n",
    "    return`\n",
    "    \n",
    "`def` is the command to define a function. You need to have some required input for the function to work. \n",
    "\n",
    "Notice the indents\n",
    "\n",
    "`return` is the output that your code will give (but you must tell it what you want to output)\n",
    "\n",
    "Let's see an example:"
   ]
  },
  {
   "cell_type": "code",
   "execution_count": 60,
   "metadata": {},
   "outputs": [],
   "source": [
    "def loan_calc(matrix): #create a definition called \"loan_calc\" and use an input called \"matrix\"\n",
    "    std_dev = np.std(matrix) #get the standard deviation  for the thing matrix and assign it a variable called std_dev\n",
    "    return std_dev # return the variable called std_dev\n"
   ]
  },
  {
   "cell_type": "code",
   "execution_count": 61,
   "metadata": {},
   "outputs": [
    {
     "data": {
      "text/plain": [
       "8729.634969380471"
      ]
     },
     "execution_count": 61,
     "metadata": {},
     "output_type": "execute_result"
    }
   ],
   "source": [
    "# here is an example. Note that all_loans is the matrix we created earlier and will now output the assigned variabled std_dev\n",
    "loan_calc(all_loans)"
   ]
  },
  {
   "cell_type": "code",
   "execution_count": null,
   "metadata": {},
   "outputs": [],
   "source": []
  }
 ],
 "metadata": {
  "kernelspec": {
   "display_name": "Python 3",
   "language": "python",
   "name": "python3"
  },
  "language_info": {
   "codemirror_mode": {
    "name": "ipython",
    "version": 3
   },
   "file_extension": ".py",
   "mimetype": "text/x-python",
   "name": "python",
   "nbconvert_exporter": "python",
   "pygments_lexer": "ipython3",
   "version": "3.8.5"
  }
 },
 "nbformat": 4,
 "nbformat_minor": 4
}
